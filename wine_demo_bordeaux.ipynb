{
 "cells": [
  {
   "cell_type": "markdown",
   "metadata": {},
   "source": [
    "## Wine Scores: Do they reflect climate in the vineyards?\n",
    "\n",
    "**Question:**\n",
    "\n",
    "Is there any correlation between weather conditions (namely, temperature and precipitation) and wine scores given by critics (a presumable indicator/proxy for wine quality/value)?\n",
    "\n",
    "**Wine region: Bordeaux, France**\n",
    "\n",
    "**Data sources:**\n",
    "\n",
    "***Daily temperature (since 1970):*** \n",
    "NOAA National Centers for Environmental Information (GHCN: Global Historical Climatological Network)\n",
    "\n",
    "***Wine scores: Wine Spectator magazine (1985-2016)***"
   ]
  },
  {
   "cell_type": "code",
   "execution_count": 1,
   "metadata": {},
   "outputs": [],
   "source": [
    "# import packages\n",
    "\n",
    "import pandas as pd\n",
    "import numpy as np\n",
    "import seaborn as sns\n",
    "import matplotlib.pyplot as plt\n",
    "%matplotlib inline"
   ]
  },
  {
   "cell_type": "markdown",
   "metadata": {},
   "source": [
    "### Import and clean up weather data"
   ]
  },
  {
   "cell_type": "code",
   "execution_count": 2,
   "metadata": {},
   "outputs": [
    {
     "name": "stderr",
     "output_type": "stream",
     "text": [
      "/Users/cwchen/anaconda3/lib/python3.7/site-packages/IPython/core/interactiveshell.py:3057: DtypeWarning: Columns (13,19,21,23,27,29) have mixed types. Specify dtype option on import or set low_memory=False.\n",
      "  interactivity=interactivity, compiler=compiler, result=result)\n"
     ]
    }
   ],
   "source": [
    "weather = pd.read_csv('weather.csv')"
   ]
  },
  {
   "cell_type": "code",
   "execution_count": 3,
   "metadata": {},
   "outputs": [
    {
     "data": {
      "text/html": [
       "<div>\n",
       "<style scoped>\n",
       "    .dataframe tbody tr th:only-of-type {\n",
       "        vertical-align: middle;\n",
       "    }\n",
       "\n",
       "    .dataframe tbody tr th {\n",
       "        vertical-align: top;\n",
       "    }\n",
       "\n",
       "    .dataframe thead th {\n",
       "        text-align: right;\n",
       "    }\n",
       "</style>\n",
       "<table border=\"1\" class=\"dataframe\">\n",
       "  <thead>\n",
       "    <tr style=\"text-align: right;\">\n",
       "      <th></th>\n",
       "      <th>STATION</th>\n",
       "      <th>NAME</th>\n",
       "      <th>LATITUDE</th>\n",
       "      <th>LONGITUDE</th>\n",
       "      <th>ELEVATION</th>\n",
       "      <th>DATE</th>\n",
       "      <th>PRCP</th>\n",
       "      <th>PRCP_ATTRIBUTES</th>\n",
       "      <th>SNOW</th>\n",
       "      <th>SNOW_ATTRIBUTES</th>\n",
       "      <th>...</th>\n",
       "      <th>WT03</th>\n",
       "      <th>WT03_ATTRIBUTES</th>\n",
       "      <th>WT04</th>\n",
       "      <th>WT04_ATTRIBUTES</th>\n",
       "      <th>WT05</th>\n",
       "      <th>WT05_ATTRIBUTES</th>\n",
       "      <th>WT06</th>\n",
       "      <th>WT06_ATTRIBUTES</th>\n",
       "      <th>WT11</th>\n",
       "      <th>WT11_ATTRIBUTES</th>\n",
       "    </tr>\n",
       "  </thead>\n",
       "  <tbody>\n",
       "    <tr>\n",
       "      <th>0</th>\n",
       "      <td>FR000007510</td>\n",
       "      <td>BORDEAUX MERIGNAC, FR</td>\n",
       "      <td>44.8306</td>\n",
       "      <td>0.6914</td>\n",
       "      <td>47.0</td>\n",
       "      <td>1970-01-01</td>\n",
       "      <td>0.0</td>\n",
       "      <td>,,E</td>\n",
       "      <td>NaN</td>\n",
       "      <td>NaN</td>\n",
       "      <td>...</td>\n",
       "      <td>NaN</td>\n",
       "      <td>NaN</td>\n",
       "      <td>NaN</td>\n",
       "      <td>NaN</td>\n",
       "      <td>NaN</td>\n",
       "      <td>NaN</td>\n",
       "      <td>NaN</td>\n",
       "      <td>NaN</td>\n",
       "      <td>NaN</td>\n",
       "      <td>NaN</td>\n",
       "    </tr>\n",
       "    <tr>\n",
       "      <th>1</th>\n",
       "      <td>FR000007510</td>\n",
       "      <td>BORDEAUX MERIGNAC, FR</td>\n",
       "      <td>44.8306</td>\n",
       "      <td>0.6914</td>\n",
       "      <td>47.0</td>\n",
       "      <td>1970-01-02</td>\n",
       "      <td>0.0</td>\n",
       "      <td>,,E</td>\n",
       "      <td>NaN</td>\n",
       "      <td>NaN</td>\n",
       "      <td>...</td>\n",
       "      <td>NaN</td>\n",
       "      <td>NaN</td>\n",
       "      <td>NaN</td>\n",
       "      <td>NaN</td>\n",
       "      <td>NaN</td>\n",
       "      <td>NaN</td>\n",
       "      <td>NaN</td>\n",
       "      <td>NaN</td>\n",
       "      <td>NaN</td>\n",
       "      <td>NaN</td>\n",
       "    </tr>\n",
       "    <tr>\n",
       "      <th>2</th>\n",
       "      <td>FR000007510</td>\n",
       "      <td>BORDEAUX MERIGNAC, FR</td>\n",
       "      <td>44.8306</td>\n",
       "      <td>0.6914</td>\n",
       "      <td>47.0</td>\n",
       "      <td>1970-01-03</td>\n",
       "      <td>4.3</td>\n",
       "      <td>,,E</td>\n",
       "      <td>NaN</td>\n",
       "      <td>NaN</td>\n",
       "      <td>...</td>\n",
       "      <td>NaN</td>\n",
       "      <td>NaN</td>\n",
       "      <td>NaN</td>\n",
       "      <td>NaN</td>\n",
       "      <td>NaN</td>\n",
       "      <td>NaN</td>\n",
       "      <td>NaN</td>\n",
       "      <td>NaN</td>\n",
       "      <td>NaN</td>\n",
       "      <td>NaN</td>\n",
       "    </tr>\n",
       "  </tbody>\n",
       "</table>\n",
       "<p>3 rows × 30 columns</p>\n",
       "</div>"
      ],
      "text/plain": [
       "       STATION                   NAME  LATITUDE  LONGITUDE  ELEVATION  \\\n",
       "0  FR000007510  BORDEAUX MERIGNAC, FR   44.8306     0.6914       47.0   \n",
       "1  FR000007510  BORDEAUX MERIGNAC, FR   44.8306     0.6914       47.0   \n",
       "2  FR000007510  BORDEAUX MERIGNAC, FR   44.8306     0.6914       47.0   \n",
       "\n",
       "         DATE  PRCP PRCP_ATTRIBUTES  SNOW SNOW_ATTRIBUTES  ...  WT03  \\\n",
       "0  1970-01-01   0.0             ,,E   NaN             NaN  ...   NaN   \n",
       "1  1970-01-02   0.0             ,,E   NaN             NaN  ...   NaN   \n",
       "2  1970-01-03   4.3             ,,E   NaN             NaN  ...   NaN   \n",
       "\n",
       "  WT03_ATTRIBUTES  WT04 WT04_ATTRIBUTES  WT05 WT05_ATTRIBUTES  WT06  \\\n",
       "0             NaN   NaN             NaN   NaN             NaN   NaN   \n",
       "1             NaN   NaN             NaN   NaN             NaN   NaN   \n",
       "2             NaN   NaN             NaN   NaN             NaN   NaN   \n",
       "\n",
       "  WT06_ATTRIBUTES  WT11 WT11_ATTRIBUTES  \n",
       "0             NaN   NaN             NaN  \n",
       "1             NaN   NaN             NaN  \n",
       "2             NaN   NaN             NaN  \n",
       "\n",
       "[3 rows x 30 columns]"
      ]
     },
     "execution_count": 3,
     "metadata": {},
     "output_type": "execute_result"
    }
   ],
   "source": [
    "weather.head(3)"
   ]
  },
  {
   "cell_type": "code",
   "execution_count": 4,
   "metadata": {},
   "outputs": [
    {
     "data": {
      "text/plain": [
       "STATION     18258\n",
       "NAME        18258\n",
       "LATITUDE    18258\n",
       "dtype: int64"
      ]
     },
     "execution_count": 4,
     "metadata": {},
     "output_type": "execute_result"
    }
   ],
   "source": [
    "weather[weather['LATITUDE']==44.8306].count().head(3)"
   ]
  },
  {
   "cell_type": "code",
   "execution_count": 5,
   "metadata": {},
   "outputs": [],
   "source": [
    "bd_temp = weather.iloc[0:18257]"
   ]
  },
  {
   "cell_type": "code",
   "execution_count": 6,
   "metadata": {},
   "outputs": [],
   "source": [
    "bd_temp = bd_temp[['DATE','PRCP','TMAX','TMIN']]"
   ]
  },
  {
   "cell_type": "code",
   "execution_count": 7,
   "metadata": {},
   "outputs": [],
   "source": [
    "bd_temp['DATE']=pd.to_datetime(bd_temp['DATE'])\n",
    "\n",
    "bd_temp['YEAR']=bd_temp['DATE'].apply(lambda time: time.year)\n",
    "bd_temp['MONTH']=bd_temp['DATE'].apply(lambda time: time.month)\n",
    "bd_temp['DAY']=bd_temp['DATE'].apply(lambda time: time.day)\n",
    "\n",
    "bd_temp = bd_temp[(bd_temp['YEAR']>=1985) & (bd_temp['YEAR']<=2016)]"
   ]
  },
  {
   "cell_type": "code",
   "execution_count": 8,
   "metadata": {},
   "outputs": [
    {
     "data": {
      "text/html": [
       "<div>\n",
       "<style scoped>\n",
       "    .dataframe tbody tr th:only-of-type {\n",
       "        vertical-align: middle;\n",
       "    }\n",
       "\n",
       "    .dataframe tbody tr th {\n",
       "        vertical-align: top;\n",
       "    }\n",
       "\n",
       "    .dataframe thead th {\n",
       "        text-align: right;\n",
       "    }\n",
       "</style>\n",
       "<table border=\"1\" class=\"dataframe\">\n",
       "  <thead>\n",
       "    <tr style=\"text-align: right;\">\n",
       "      <th></th>\n",
       "      <th>DATE</th>\n",
       "      <th>PRCP</th>\n",
       "      <th>TMAX</th>\n",
       "      <th>TMIN</th>\n",
       "      <th>YEAR</th>\n",
       "      <th>MONTH</th>\n",
       "      <th>DAY</th>\n",
       "    </tr>\n",
       "  </thead>\n",
       "  <tbody>\n",
       "    <tr>\n",
       "      <th>5479</th>\n",
       "      <td>1985-01-01</td>\n",
       "      <td>0.0</td>\n",
       "      <td>8.6</td>\n",
       "      <td>2.1</td>\n",
       "      <td>1985</td>\n",
       "      <td>1</td>\n",
       "      <td>1</td>\n",
       "    </tr>\n",
       "    <tr>\n",
       "      <th>5480</th>\n",
       "      <td>1985-01-02</td>\n",
       "      <td>0.0</td>\n",
       "      <td>6.7</td>\n",
       "      <td>-0.7</td>\n",
       "      <td>1985</td>\n",
       "      <td>1</td>\n",
       "      <td>2</td>\n",
       "    </tr>\n",
       "    <tr>\n",
       "      <th>5481</th>\n",
       "      <td>1985-01-03</td>\n",
       "      <td>0.0</td>\n",
       "      <td>5.9</td>\n",
       "      <td>-5.0</td>\n",
       "      <td>1985</td>\n",
       "      <td>1</td>\n",
       "      <td>3</td>\n",
       "    </tr>\n",
       "  </tbody>\n",
       "</table>\n",
       "</div>"
      ],
      "text/plain": [
       "           DATE  PRCP  TMAX  TMIN  YEAR  MONTH  DAY\n",
       "5479 1985-01-01   0.0   8.6   2.1  1985      1    1\n",
       "5480 1985-01-02   0.0   6.7  -0.7  1985      1    2\n",
       "5481 1985-01-03   0.0   5.9  -5.0  1985      1    3"
      ]
     },
     "execution_count": 8,
     "metadata": {},
     "output_type": "execute_result"
    }
   ],
   "source": [
    "bd_temp.head(3)"
   ]
  },
  {
   "cell_type": "code",
   "execution_count": 9,
   "metadata": {},
   "outputs": [],
   "source": [
    "bd_temp.reset_index(drop=True,inplace=True)\n",
    "\n",
    "#bd_temp.set_index('DATE').head(3)"
   ]
  },
  {
   "cell_type": "code",
   "execution_count": 10,
   "metadata": {},
   "outputs": [
    {
     "data": {
      "text/html": [
       "<div>\n",
       "<style scoped>\n",
       "    .dataframe tbody tr th:only-of-type {\n",
       "        vertical-align: middle;\n",
       "    }\n",
       "\n",
       "    .dataframe tbody tr th {\n",
       "        vertical-align: top;\n",
       "    }\n",
       "\n",
       "    .dataframe thead th {\n",
       "        text-align: right;\n",
       "    }\n",
       "</style>\n",
       "<table border=\"1\" class=\"dataframe\">\n",
       "  <thead>\n",
       "    <tr style=\"text-align: right;\">\n",
       "      <th></th>\n",
       "      <th>DATE</th>\n",
       "      <th>PRCP</th>\n",
       "      <th>TMAX</th>\n",
       "      <th>TMIN</th>\n",
       "      <th>YEAR</th>\n",
       "      <th>MONTH</th>\n",
       "      <th>DAY</th>\n",
       "    </tr>\n",
       "  </thead>\n",
       "  <tbody>\n",
       "    <tr>\n",
       "      <th>0</th>\n",
       "      <td>1985-01-01</td>\n",
       "      <td>0.0</td>\n",
       "      <td>8.6</td>\n",
       "      <td>2.1</td>\n",
       "      <td>1985</td>\n",
       "      <td>1</td>\n",
       "      <td>1</td>\n",
       "    </tr>\n",
       "    <tr>\n",
       "      <th>1</th>\n",
       "      <td>1985-01-02</td>\n",
       "      <td>0.0</td>\n",
       "      <td>6.7</td>\n",
       "      <td>-0.7</td>\n",
       "      <td>1985</td>\n",
       "      <td>1</td>\n",
       "      <td>2</td>\n",
       "    </tr>\n",
       "    <tr>\n",
       "      <th>2</th>\n",
       "      <td>1985-01-03</td>\n",
       "      <td>0.0</td>\n",
       "      <td>5.9</td>\n",
       "      <td>-5.0</td>\n",
       "      <td>1985</td>\n",
       "      <td>1</td>\n",
       "      <td>3</td>\n",
       "    </tr>\n",
       "  </tbody>\n",
       "</table>\n",
       "</div>"
      ],
      "text/plain": [
       "        DATE  PRCP  TMAX  TMIN  YEAR  MONTH  DAY\n",
       "0 1985-01-01   0.0   8.6   2.1  1985      1    1\n",
       "1 1985-01-02   0.0   6.7  -0.7  1985      1    2\n",
       "2 1985-01-03   0.0   5.9  -5.0  1985      1    3"
      ]
     },
     "execution_count": 10,
     "metadata": {},
     "output_type": "execute_result"
    }
   ],
   "source": [
    "bd_temp.head(3)"
   ]
  },
  {
   "cell_type": "code",
   "execution_count": 11,
   "metadata": {},
   "outputs": [],
   "source": [
    "bd_temp['TAVG']=bd_temp[['TMAX','TMIN']].mean(axis=1)"
   ]
  },
  {
   "cell_type": "code",
   "execution_count": 12,
   "metadata": {},
   "outputs": [
    {
     "data": {
      "text/html": [
       "<div>\n",
       "<style scoped>\n",
       "    .dataframe tbody tr th:only-of-type {\n",
       "        vertical-align: middle;\n",
       "    }\n",
       "\n",
       "    .dataframe tbody tr th {\n",
       "        vertical-align: top;\n",
       "    }\n",
       "\n",
       "    .dataframe thead th {\n",
       "        text-align: right;\n",
       "    }\n",
       "</style>\n",
       "<table border=\"1\" class=\"dataframe\">\n",
       "  <thead>\n",
       "    <tr style=\"text-align: right;\">\n",
       "      <th></th>\n",
       "      <th>DATE</th>\n",
       "      <th>PRCP</th>\n",
       "      <th>TMAX</th>\n",
       "      <th>TMIN</th>\n",
       "      <th>YEAR</th>\n",
       "      <th>MONTH</th>\n",
       "      <th>DAY</th>\n",
       "      <th>TAVG</th>\n",
       "    </tr>\n",
       "  </thead>\n",
       "  <tbody>\n",
       "    <tr>\n",
       "      <th>0</th>\n",
       "      <td>1985-01-01</td>\n",
       "      <td>0.0</td>\n",
       "      <td>8.6</td>\n",
       "      <td>2.1</td>\n",
       "      <td>1985</td>\n",
       "      <td>1</td>\n",
       "      <td>1</td>\n",
       "      <td>5.35</td>\n",
       "    </tr>\n",
       "    <tr>\n",
       "      <th>1</th>\n",
       "      <td>1985-01-02</td>\n",
       "      <td>0.0</td>\n",
       "      <td>6.7</td>\n",
       "      <td>-0.7</td>\n",
       "      <td>1985</td>\n",
       "      <td>1</td>\n",
       "      <td>2</td>\n",
       "      <td>3.00</td>\n",
       "    </tr>\n",
       "    <tr>\n",
       "      <th>2</th>\n",
       "      <td>1985-01-03</td>\n",
       "      <td>0.0</td>\n",
       "      <td>5.9</td>\n",
       "      <td>-5.0</td>\n",
       "      <td>1985</td>\n",
       "      <td>1</td>\n",
       "      <td>3</td>\n",
       "      <td>0.45</td>\n",
       "    </tr>\n",
       "  </tbody>\n",
       "</table>\n",
       "</div>"
      ],
      "text/plain": [
       "        DATE  PRCP  TMAX  TMIN  YEAR  MONTH  DAY  TAVG\n",
       "0 1985-01-01   0.0   8.6   2.1  1985      1    1  5.35\n",
       "1 1985-01-02   0.0   6.7  -0.7  1985      1    2  3.00\n",
       "2 1985-01-03   0.0   5.9  -5.0  1985      1    3  0.45"
      ]
     },
     "execution_count": 12,
     "metadata": {},
     "output_type": "execute_result"
    }
   ],
   "source": [
    "bd_temp.head(3)"
   ]
  },
  {
   "cell_type": "markdown",
   "metadata": {},
   "source": [
    "**Create pivot table**"
   ]
  },
  {
   "cell_type": "code",
   "execution_count": 13,
   "metadata": {},
   "outputs": [],
   "source": [
    "bd_p=bd_temp.pivot_table(index='YEAR',columns='MONTH',values=['PRCP','TMAX','TMIN','TAVG'],aggfunc={\n",
    "    'PRCP':np.sum,'TMAX':np.mean,'TMIN':np.mean,'TAVG':np.mean})"
   ]
  },
  {
   "cell_type": "code",
   "execution_count": 157,
   "metadata": {},
   "outputs": [
    {
     "data": {
      "text/html": [
       "<div>\n",
       "<style scoped>\n",
       "    .dataframe tbody tr th:only-of-type {\n",
       "        vertical-align: middle;\n",
       "    }\n",
       "\n",
       "    .dataframe tbody tr th {\n",
       "        vertical-align: top;\n",
       "    }\n",
       "\n",
       "    .dataframe thead tr th {\n",
       "        text-align: left;\n",
       "    }\n",
       "\n",
       "    .dataframe thead tr:last-of-type th {\n",
       "        text-align: right;\n",
       "    }\n",
       "</style>\n",
       "<table border=\"1\" class=\"dataframe\">\n",
       "  <thead>\n",
       "    <tr>\n",
       "      <th>Attribute</th>\n",
       "      <th colspan=\"10\" halign=\"left\">PRCP</th>\n",
       "      <th>...</th>\n",
       "      <th colspan=\"8\" halign=\"left\">TMIN</th>\n",
       "      <th>PRCP_Annual</th>\n",
       "      <th>Wine_Score</th>\n",
       "    </tr>\n",
       "    <tr>\n",
       "      <th>MONTH</th>\n",
       "      <th>1</th>\n",
       "      <th>2</th>\n",
       "      <th>3</th>\n",
       "      <th>4</th>\n",
       "      <th>5</th>\n",
       "      <th>6</th>\n",
       "      <th>7</th>\n",
       "      <th>8</th>\n",
       "      <th>9</th>\n",
       "      <th>10</th>\n",
       "      <th>...</th>\n",
       "      <th>5</th>\n",
       "      <th>6</th>\n",
       "      <th>7</th>\n",
       "      <th>8</th>\n",
       "      <th>9</th>\n",
       "      <th>10</th>\n",
       "      <th>11</th>\n",
       "      <th>12</th>\n",
       "      <th></th>\n",
       "      <th></th>\n",
       "    </tr>\n",
       "    <tr>\n",
       "      <th>YEAR</th>\n",
       "      <th></th>\n",
       "      <th></th>\n",
       "      <th></th>\n",
       "      <th></th>\n",
       "      <th></th>\n",
       "      <th></th>\n",
       "      <th></th>\n",
       "      <th></th>\n",
       "      <th></th>\n",
       "      <th></th>\n",
       "      <th></th>\n",
       "      <th></th>\n",
       "      <th></th>\n",
       "      <th></th>\n",
       "      <th></th>\n",
       "      <th></th>\n",
       "      <th></th>\n",
       "      <th></th>\n",
       "      <th></th>\n",
       "      <th></th>\n",
       "      <th></th>\n",
       "    </tr>\n",
       "  </thead>\n",
       "  <tbody>\n",
       "    <tr>\n",
       "      <th>1985</th>\n",
       "      <td>69.8</td>\n",
       "      <td>84.8</td>\n",
       "      <td>114.9</td>\n",
       "      <td>75.8</td>\n",
       "      <td>137.6</td>\n",
       "      <td>43.6</td>\n",
       "      <td>73.4</td>\n",
       "      <td>33.6</td>\n",
       "      <td>3.6</td>\n",
       "      <td>14.0</td>\n",
       "      <td>...</td>\n",
       "      <td>9.074194</td>\n",
       "      <td>12.536667</td>\n",
       "      <td>15.700000</td>\n",
       "      <td>12.593548</td>\n",
       "      <td>12.173333</td>\n",
       "      <td>8.645161</td>\n",
       "      <td>1.996667</td>\n",
       "      <td>2.561290</td>\n",
       "      <td>825.3</td>\n",
       "      <td>93</td>\n",
       "    </tr>\n",
       "    <tr>\n",
       "      <th>1986</th>\n",
       "      <td>202.7</td>\n",
       "      <td>76.4</td>\n",
       "      <td>51.2</td>\n",
       "      <td>157.2</td>\n",
       "      <td>41.6</td>\n",
       "      <td>10.9</td>\n",
       "      <td>5.0</td>\n",
       "      <td>45.8</td>\n",
       "      <td>125.4</td>\n",
       "      <td>74.8</td>\n",
       "      <td>...</td>\n",
       "      <td>10.267742</td>\n",
       "      <td>12.740000</td>\n",
       "      <td>14.216129</td>\n",
       "      <td>13.319355</td>\n",
       "      <td>11.703333</td>\n",
       "      <td>10.790323</td>\n",
       "      <td>4.843333</td>\n",
       "      <td>3.474194</td>\n",
       "      <td>954.4</td>\n",
       "      <td>95</td>\n",
       "    </tr>\n",
       "    <tr>\n",
       "      <th>1987</th>\n",
       "      <td>28.5</td>\n",
       "      <td>54.2</td>\n",
       "      <td>76.1</td>\n",
       "      <td>43.0</td>\n",
       "      <td>24.2</td>\n",
       "      <td>84.2</td>\n",
       "      <td>86.4</td>\n",
       "      <td>40.1</td>\n",
       "      <td>75.0</td>\n",
       "      <td>142.2</td>\n",
       "      <td>...</td>\n",
       "      <td>8.803226</td>\n",
       "      <td>12.493333</td>\n",
       "      <td>15.858065</td>\n",
       "      <td>14.996774</td>\n",
       "      <td>14.473333</td>\n",
       "      <td>11.141935</td>\n",
       "      <td>5.356667</td>\n",
       "      <td>4.477419</td>\n",
       "      <td>788.3</td>\n",
       "      <td>76</td>\n",
       "    </tr>\n",
       "    <tr>\n",
       "      <th>1988</th>\n",
       "      <td>225.0</td>\n",
       "      <td>110.8</td>\n",
       "      <td>121.8</td>\n",
       "      <td>73.4</td>\n",
       "      <td>112.9</td>\n",
       "      <td>70.6</td>\n",
       "      <td>49.0</td>\n",
       "      <td>16.0</td>\n",
       "      <td>42.8</td>\n",
       "      <td>49.2</td>\n",
       "      <td>...</td>\n",
       "      <td>11.883871</td>\n",
       "      <td>13.600000</td>\n",
       "      <td>14.135484</td>\n",
       "      <td>14.874194</td>\n",
       "      <td>12.360000</td>\n",
       "      <td>10.229032</td>\n",
       "      <td>4.100000</td>\n",
       "      <td>3.761290</td>\n",
       "      <td>943.1</td>\n",
       "      <td>93</td>\n",
       "    </tr>\n",
       "    <tr>\n",
       "      <th>1989</th>\n",
       "      <td>28.6</td>\n",
       "      <td>90.0</td>\n",
       "      <td>43.0</td>\n",
       "      <td>163.9</td>\n",
       "      <td>39.8</td>\n",
       "      <td>26.2</td>\n",
       "      <td>43.4</td>\n",
       "      <td>51.6</td>\n",
       "      <td>33.6</td>\n",
       "      <td>32.8</td>\n",
       "      <td>...</td>\n",
       "      <td>12.332258</td>\n",
       "      <td>13.423333</td>\n",
       "      <td>16.251613</td>\n",
       "      <td>15.558065</td>\n",
       "      <td>12.310000</td>\n",
       "      <td>9.793548</td>\n",
       "      <td>7.236667</td>\n",
       "      <td>5.725806</td>\n",
       "      <td>667.9</td>\n",
       "      <td>98</td>\n",
       "    </tr>\n",
       "    <tr>\n",
       "      <th>1990</th>\n",
       "      <td>73.4</td>\n",
       "      <td>155.0</td>\n",
       "      <td>4.4</td>\n",
       "      <td>83.0</td>\n",
       "      <td>29.6</td>\n",
       "      <td>73.0</td>\n",
       "      <td>25.2</td>\n",
       "      <td>20.4</td>\n",
       "      <td>60.0</td>\n",
       "      <td>178.4</td>\n",
       "      <td>...</td>\n",
       "      <td>12.429032</td>\n",
       "      <td>13.716667</td>\n",
       "      <td>15.812903</td>\n",
       "      <td>16.590323</td>\n",
       "      <td>13.123333</td>\n",
       "      <td>11.290323</td>\n",
       "      <td>7.363333</td>\n",
       "      <td>1.196774</td>\n",
       "      <td>906.0</td>\n",
       "      <td>97</td>\n",
       "    </tr>\n",
       "    <tr>\n",
       "      <th>1991</th>\n",
       "      <td>42.4</td>\n",
       "      <td>55.6</td>\n",
       "      <td>39.8</td>\n",
       "      <td>67.0</td>\n",
       "      <td>81.4</td>\n",
       "      <td>53.4</td>\n",
       "      <td>88.6</td>\n",
       "      <td>17.2</td>\n",
       "      <td>165.3</td>\n",
       "      <td>144.6</td>\n",
       "      <td>...</td>\n",
       "      <td>9.987097</td>\n",
       "      <td>12.440000</td>\n",
       "      <td>16.090323</td>\n",
       "      <td>17.090323</td>\n",
       "      <td>15.370000</td>\n",
       "      <td>8.787097</td>\n",
       "      <td>6.076667</td>\n",
       "      <td>1.900000</td>\n",
       "      <td>978.1</td>\n",
       "      <td>72</td>\n",
       "    </tr>\n",
       "    <tr>\n",
       "      <th>1992</th>\n",
       "      <td>25.2</td>\n",
       "      <td>16.0</td>\n",
       "      <td>79.2</td>\n",
       "      <td>66.2</td>\n",
       "      <td>48.4</td>\n",
       "      <td>167.4</td>\n",
       "      <td>73.0</td>\n",
       "      <td>248.0</td>\n",
       "      <td>93.6</td>\n",
       "      <td>145.4</td>\n",
       "      <td>...</td>\n",
       "      <td>11.787097</td>\n",
       "      <td>13.463333</td>\n",
       "      <td>16.316129</td>\n",
       "      <td>16.861290</td>\n",
       "      <td>12.673333</td>\n",
       "      <td>9.206452</td>\n",
       "      <td>9.086667</td>\n",
       "      <td>5.058065</td>\n",
       "      <td>1230.6</td>\n",
       "      <td>72</td>\n",
       "    </tr>\n",
       "    <tr>\n",
       "      <th>1993</th>\n",
       "      <td>13.8</td>\n",
       "      <td>2.8</td>\n",
       "      <td>14.8</td>\n",
       "      <td>128.8</td>\n",
       "      <td>66.8</td>\n",
       "      <td>131.2</td>\n",
       "      <td>47.0</td>\n",
       "      <td>30.2</td>\n",
       "      <td>247.9</td>\n",
       "      <td>129.2</td>\n",
       "      <td>...</td>\n",
       "      <td>11.058065</td>\n",
       "      <td>14.680000</td>\n",
       "      <td>14.087097</td>\n",
       "      <td>14.974194</td>\n",
       "      <td>12.170000</td>\n",
       "      <td>9.409677</td>\n",
       "      <td>3.683333</td>\n",
       "      <td>6.451613</td>\n",
       "      <td>1089.1</td>\n",
       "      <td>82</td>\n",
       "    </tr>\n",
       "    <tr>\n",
       "      <th>1994</th>\n",
       "      <td>176.4</td>\n",
       "      <td>109.2</td>\n",
       "      <td>17.8</td>\n",
       "      <td>130.6</td>\n",
       "      <td>104.2</td>\n",
       "      <td>101.4</td>\n",
       "      <td>55.6</td>\n",
       "      <td>45.0</td>\n",
       "      <td>175.0</td>\n",
       "      <td>60.8</td>\n",
       "      <td>...</td>\n",
       "      <td>10.635484</td>\n",
       "      <td>13.806667</td>\n",
       "      <td>17.132258</td>\n",
       "      <td>17.790323</td>\n",
       "      <td>12.860000</td>\n",
       "      <td>10.900000</td>\n",
       "      <td>9.063333</td>\n",
       "      <td>6.596774</td>\n",
       "      <td>1156.0</td>\n",
       "      <td>85</td>\n",
       "    </tr>\n",
       "  </tbody>\n",
       "</table>\n",
       "<p>10 rows × 50 columns</p>\n",
       "</div>"
      ],
      "text/plain": [
       "Attribute   PRCP                                                         \\\n",
       "MONTH          1      2      3      4      5      6     7      8      9   \n",
       "YEAR                                                                      \n",
       "1985        69.8   84.8  114.9   75.8  137.6   43.6  73.4   33.6    3.6   \n",
       "1986       202.7   76.4   51.2  157.2   41.6   10.9   5.0   45.8  125.4   \n",
       "1987        28.5   54.2   76.1   43.0   24.2   84.2  86.4   40.1   75.0   \n",
       "1988       225.0  110.8  121.8   73.4  112.9   70.6  49.0   16.0   42.8   \n",
       "1989        28.6   90.0   43.0  163.9   39.8   26.2  43.4   51.6   33.6   \n",
       "1990        73.4  155.0    4.4   83.0   29.6   73.0  25.2   20.4   60.0   \n",
       "1991        42.4   55.6   39.8   67.0   81.4   53.4  88.6   17.2  165.3   \n",
       "1992        25.2   16.0   79.2   66.2   48.4  167.4  73.0  248.0   93.6   \n",
       "1993        13.8    2.8   14.8  128.8   66.8  131.2  47.0   30.2  247.9   \n",
       "1994       176.4  109.2   17.8  130.6  104.2  101.4  55.6   45.0  175.0   \n",
       "\n",
       "Attribute         ...       TMIN                                              \\\n",
       "MONTH         10  ...          5          6          7          8          9   \n",
       "YEAR              ...                                                          \n",
       "1985        14.0  ...   9.074194  12.536667  15.700000  12.593548  12.173333   \n",
       "1986        74.8  ...  10.267742  12.740000  14.216129  13.319355  11.703333   \n",
       "1987       142.2  ...   8.803226  12.493333  15.858065  14.996774  14.473333   \n",
       "1988        49.2  ...  11.883871  13.600000  14.135484  14.874194  12.360000   \n",
       "1989        32.8  ...  12.332258  13.423333  16.251613  15.558065  12.310000   \n",
       "1990       178.4  ...  12.429032  13.716667  15.812903  16.590323  13.123333   \n",
       "1991       144.6  ...   9.987097  12.440000  16.090323  17.090323  15.370000   \n",
       "1992       145.4  ...  11.787097  13.463333  16.316129  16.861290  12.673333   \n",
       "1993       129.2  ...  11.058065  14.680000  14.087097  14.974194  12.170000   \n",
       "1994        60.8  ...  10.635484  13.806667  17.132258  17.790323  12.860000   \n",
       "\n",
       "Attribute                                PRCP_Annual Wine_Score  \n",
       "MONTH             10        11        12                         \n",
       "YEAR                                                             \n",
       "1985        8.645161  1.996667  2.561290       825.3         93  \n",
       "1986       10.790323  4.843333  3.474194       954.4         95  \n",
       "1987       11.141935  5.356667  4.477419       788.3         76  \n",
       "1988       10.229032  4.100000  3.761290       943.1         93  \n",
       "1989        9.793548  7.236667  5.725806       667.9         98  \n",
       "1990       11.290323  7.363333  1.196774       906.0         97  \n",
       "1991        8.787097  6.076667  1.900000       978.1         72  \n",
       "1992        9.206452  9.086667  5.058065      1230.6         72  \n",
       "1993        9.409677  3.683333  6.451613      1089.1         82  \n",
       "1994       10.900000  9.063333  6.596774      1156.0         85  \n",
       "\n",
       "[10 rows x 50 columns]"
      ]
     },
     "execution_count": 157,
     "metadata": {},
     "output_type": "execute_result"
    }
   ],
   "source": [
    "bd_p.head(10)"
   ]
  },
  {
   "cell_type": "code",
   "execution_count": 15,
   "metadata": {},
   "outputs": [],
   "source": [
    "bd_p.columns.names=['Attribute','MONTH']"
   ]
  },
  {
   "cell_type": "code",
   "execution_count": 16,
   "metadata": {},
   "outputs": [
    {
     "data": {
      "text/plain": [
       "<matplotlib.axes._subplots.AxesSubplot at 0x12b65f710>"
      ]
     },
     "execution_count": 16,
     "metadata": {},
     "output_type": "execute_result"
    },
    {
     "data": {
      "image/png": "[encoded data removed]",
      "text/plain": [
       "<Figure size 432x288 with 1 Axes>"
      ]
     },
     "metadata": {
      "needs_background": "light"
     },
     "output_type": "display_data"
    }
   ],
   "source": [
    "bd_p.loc[1985]['PRCP'].plot('bar')"
   ]
  },
  {
   "cell_type": "code",
   "execution_count": 100,
   "metadata": {},
   "outputs": [
    {
     "data": {
      "text/html": [
       "<div>\n",
       "<style scoped>\n",
       "    .dataframe tbody tr th:only-of-type {\n",
       "        vertical-align: middle;\n",
       "    }\n",
       "\n",
       "    .dataframe tbody tr th {\n",
       "        vertical-align: top;\n",
       "    }\n",
       "\n",
       "    .dataframe thead th {\n",
       "        text-align: right;\n",
       "    }\n",
       "</style>\n",
       "<table border=\"1\" class=\"dataframe\">\n",
       "  <thead>\n",
       "    <tr style=\"text-align: right;\">\n",
       "      <th>MONTH</th>\n",
       "      <th>1</th>\n",
       "      <th>2</th>\n",
       "      <th>3</th>\n",
       "      <th>4</th>\n",
       "      <th>5</th>\n",
       "      <th>6</th>\n",
       "      <th>7</th>\n",
       "      <th>8</th>\n",
       "      <th>9</th>\n",
       "      <th>10</th>\n",
       "      <th>11</th>\n",
       "      <th>12</th>\n",
       "    </tr>\n",
       "    <tr>\n",
       "      <th>YEAR</th>\n",
       "      <th></th>\n",
       "      <th></th>\n",
       "      <th></th>\n",
       "      <th></th>\n",
       "      <th></th>\n",
       "      <th></th>\n",
       "      <th></th>\n",
       "      <th></th>\n",
       "      <th></th>\n",
       "      <th></th>\n",
       "      <th></th>\n",
       "      <th></th>\n",
       "    </tr>\n",
       "  </thead>\n",
       "  <tbody>\n",
       "    <tr>\n",
       "      <th>1991</th>\n",
       "      <td>42.4</td>\n",
       "      <td>55.6</td>\n",
       "      <td>39.8</td>\n",
       "      <td>67.0</td>\n",
       "      <td>81.4</td>\n",
       "      <td>53.4</td>\n",
       "      <td>88.6</td>\n",
       "      <td>17.2</td>\n",
       "      <td>165.3</td>\n",
       "      <td>144.6</td>\n",
       "      <td>185.2</td>\n",
       "      <td>37.6</td>\n",
       "    </tr>\n",
       "    <tr>\n",
       "      <th>2010</th>\n",
       "      <td>77.8</td>\n",
       "      <td>54.0</td>\n",
       "      <td>67.7</td>\n",
       "      <td>26.8</td>\n",
       "      <td>40.7</td>\n",
       "      <td>101.5</td>\n",
       "      <td>15.4</td>\n",
       "      <td>16.6</td>\n",
       "      <td>23.8</td>\n",
       "      <td>93.2</td>\n",
       "      <td>214.6</td>\n",
       "      <td>79.9</td>\n",
       "    </tr>\n",
       "  </tbody>\n",
       "</table>\n",
       "</div>"
      ],
      "text/plain": [
       "MONTH    1     2     3     4     5      6     7     8      9      10     11  \\\n",
       "YEAR                                                                          \n",
       "1991   42.4  55.6  39.8  67.0  81.4   53.4  88.6  17.2  165.3  144.6  185.2   \n",
       "2010   77.8  54.0  67.7  26.8  40.7  101.5  15.4  16.6   23.8   93.2  214.6   \n",
       "\n",
       "MONTH    12  \n",
       "YEAR         \n",
       "1991   37.6  \n",
       "2010   79.9  "
      ]
     },
     "execution_count": 100,
     "metadata": {},
     "output_type": "execute_result"
    }
   ],
   "source": [
    "# From wine score data (shown later), the vintages 1991 and 2010 have the lowerest and highest score, respectively.\n",
    "\n",
    "bd_p.loc[[1991, 2010]]['PRCP']"
   ]
  },
  {
   "cell_type": "code",
   "execution_count": 98,
   "metadata": {},
   "outputs": [],
   "source": [
    "test = bd_p.loc[[1991, 2010]]['PRCP'].unstack()"
   ]
  },
  {
   "cell_type": "code",
   "execution_count": 149,
   "metadata": {},
   "outputs": [],
   "source": [
    "#test.plot('bar')"
   ]
  },
  {
   "cell_type": "code",
   "execution_count": 127,
   "metadata": {},
   "outputs": [],
   "source": [
    "testdf = test.to_frame()"
   ]
  },
  {
   "cell_type": "code",
   "execution_count": 135,
   "metadata": {},
   "outputs": [],
   "source": [
    "testdf.reset_index(inplace=True)"
   ]
  },
  {
   "cell_type": "code",
   "execution_count": 136,
   "metadata": {},
   "outputs": [
    {
     "name": "stdout",
     "output_type": "stream",
     "text": [
      "<class 'pandas.core.frame.DataFrame'>\n",
      "RangeIndex: 24 entries, 0 to 23\n",
      "Data columns (total 3 columns):\n",
      "MONTH    24 non-null int64\n",
      "YEAR     24 non-null int64\n",
      "0        24 non-null float64\n",
      "dtypes: float64(1), int64(2)\n",
      "memory usage: 656.0 bytes\n"
     ]
    }
   ],
   "source": [
    "testdf.info()"
   ]
  },
  {
   "cell_type": "code",
   "execution_count": 150,
   "metadata": {},
   "outputs": [],
   "source": [
    "testdf.columns=['Month','Year','PRCP']"
   ]
  },
  {
   "cell_type": "code",
   "execution_count": 151,
   "metadata": {},
   "outputs": [
    {
     "data": {
      "text/html": [
       "<div>\n",
       "<style scoped>\n",
       "    .dataframe tbody tr th:only-of-type {\n",
       "        vertical-align: middle;\n",
       "    }\n",
       "\n",
       "    .dataframe tbody tr th {\n",
       "        vertical-align: top;\n",
       "    }\n",
       "\n",
       "    .dataframe thead th {\n",
       "        text-align: right;\n",
       "    }\n",
       "</style>\n",
       "<table border=\"1\" class=\"dataframe\">\n",
       "  <thead>\n",
       "    <tr style=\"text-align: right;\">\n",
       "      <th></th>\n",
       "      <th>Month</th>\n",
       "      <th>Year</th>\n",
       "      <th>PRCP</th>\n",
       "    </tr>\n",
       "  </thead>\n",
       "  <tbody>\n",
       "    <tr>\n",
       "      <th>0</th>\n",
       "      <td>1</td>\n",
       "      <td>1991</td>\n",
       "      <td>42.4</td>\n",
       "    </tr>\n",
       "    <tr>\n",
       "      <th>1</th>\n",
       "      <td>1</td>\n",
       "      <td>2010</td>\n",
       "      <td>77.8</td>\n",
       "    </tr>\n",
       "    <tr>\n",
       "      <th>2</th>\n",
       "      <td>2</td>\n",
       "      <td>1991</td>\n",
       "      <td>55.6</td>\n",
       "    </tr>\n",
       "  </tbody>\n",
       "</table>\n",
       "</div>"
      ],
      "text/plain": [
       "   Month  Year  PRCP\n",
       "0      1  1991  42.4\n",
       "1      1  2010  77.8\n",
       "2      2  1991  55.6"
      ]
     },
     "execution_count": 151,
     "metadata": {},
     "output_type": "execute_result"
    }
   ],
   "source": [
    "testdf.head(3)"
   ]
  },
  {
   "cell_type": "code",
   "execution_count": 148,
   "metadata": {},
   "outputs": [
    {
     "data": {
      "text/plain": [
       "Text(0, 0.5, 'Accumulated Precipitation (mm)')"
      ]
     },
     "execution_count": 148,
     "metadata": {},
     "output_type": "execute_result"
    },
    {
     "data": {
      "image/png": "[encoded data removed]",
      "text/plain": [
       "<Figure size 576x432 with 1 Axes>"
      ]
     },
     "metadata": {},
     "output_type": "display_data"
    }
   ],
   "source": [
    "plt.figure(figsize=(8,6))\n",
    "sns.barplot(x='Month',y='PRCP',hue='Year',data=testdf)\n",
    "plt.ylabel('Accumulated Precipitation (mm)')"
   ]
  },
  {
   "cell_type": "markdown",
   "metadata": {},
   "source": [
    ">\n",
    "> **The vintage 1991 saw much more rain than that in 2010. Excess rain could degrade grape quality.**\n",
    ">"
   ]
  },
  {
   "cell_type": "code",
   "execution_count": 155,
   "metadata": {},
   "outputs": [],
   "source": [
    "#sns.scatterplot(x='Month',y='PRCP',hue='Year',data=testdf)\n",
    "#plt.ylabel('Accumulated Precipitation (mm)')"
   ]
  },
  {
   "cell_type": "code",
   "execution_count": 156,
   "metadata": {},
   "outputs": [],
   "source": [
    "#testdf.head(3)"
   ]
  },
  {
   "cell_type": "code",
   "execution_count": 17,
   "metadata": {},
   "outputs": [],
   "source": [
    "bd_p['PRCP_Annual']=bd_p.PRCP.sum(axis=1)"
   ]
  },
  {
   "cell_type": "markdown",
   "metadata": {},
   "source": [
    "### Now import wine score data"
   ]
  },
  {
   "cell_type": "code",
   "execution_count": 41,
   "metadata": {},
   "outputs": [],
   "source": [
    "ws = pd.read_csv('WS_score_Napa_Cab_Bordeaux_LB_1985-2016.txt',sep=\" \")"
   ]
  },
  {
   "cell_type": "code",
   "execution_count": 42,
   "metadata": {},
   "outputs": [
    {
     "data": {
      "text/html": [
       "<div>\n",
       "<style scoped>\n",
       "    .dataframe tbody tr th:only-of-type {\n",
       "        vertical-align: middle;\n",
       "    }\n",
       "\n",
       "    .dataframe tbody tr th {\n",
       "        vertical-align: top;\n",
       "    }\n",
       "\n",
       "    .dataframe thead th {\n",
       "        text-align: right;\n",
       "    }\n",
       "</style>\n",
       "<table border=\"1\" class=\"dataframe\">\n",
       "  <thead>\n",
       "    <tr style=\"text-align: right;\">\n",
       "      <th></th>\n",
       "      <th>Vintage</th>\n",
       "      <th>Napa_Valley</th>\n",
       "      <th>Bordeaux</th>\n",
       "    </tr>\n",
       "  </thead>\n",
       "  <tbody>\n",
       "    <tr>\n",
       "      <th>0</th>\n",
       "      <td>2016</td>\n",
       "      <td>98</td>\n",
       "      <td>97</td>\n",
       "    </tr>\n",
       "    <tr>\n",
       "      <th>1</th>\n",
       "      <td>2015</td>\n",
       "      <td>94</td>\n",
       "      <td>94</td>\n",
       "    </tr>\n",
       "    <tr>\n",
       "      <th>2</th>\n",
       "      <td>2014</td>\n",
       "      <td>95</td>\n",
       "      <td>93</td>\n",
       "    </tr>\n",
       "  </tbody>\n",
       "</table>\n",
       "</div>"
      ],
      "text/plain": [
       "   Vintage  Napa_Valley  Bordeaux\n",
       "0     2016           98        97\n",
       "1     2015           94        94\n",
       "2     2014           95        93"
      ]
     },
     "execution_count": 42,
     "metadata": {},
     "output_type": "execute_result"
    }
   ],
   "source": [
    "ws.head(3)"
   ]
  },
  {
   "cell_type": "code",
   "execution_count": 43,
   "metadata": {},
   "outputs": [],
   "source": [
    "ws.drop('Napa_Valley',axis=1,inplace=True)"
   ]
  },
  {
   "cell_type": "code",
   "execution_count": 44,
   "metadata": {},
   "outputs": [
    {
     "data": {
      "text/html": [
       "<div>\n",
       "<style scoped>\n",
       "    .dataframe tbody tr th:only-of-type {\n",
       "        vertical-align: middle;\n",
       "    }\n",
       "\n",
       "    .dataframe tbody tr th {\n",
       "        vertical-align: top;\n",
       "    }\n",
       "\n",
       "    .dataframe thead th {\n",
       "        text-align: right;\n",
       "    }\n",
       "</style>\n",
       "<table border=\"1\" class=\"dataframe\">\n",
       "  <thead>\n",
       "    <tr style=\"text-align: right;\">\n",
       "      <th></th>\n",
       "      <th>Vintage</th>\n",
       "      <th>Bordeaux</th>\n",
       "    </tr>\n",
       "  </thead>\n",
       "  <tbody>\n",
       "    <tr>\n",
       "      <th>0</th>\n",
       "      <td>2016</td>\n",
       "      <td>97</td>\n",
       "    </tr>\n",
       "    <tr>\n",
       "      <th>1</th>\n",
       "      <td>2015</td>\n",
       "      <td>94</td>\n",
       "    </tr>\n",
       "    <tr>\n",
       "      <th>2</th>\n",
       "      <td>2014</td>\n",
       "      <td>93</td>\n",
       "    </tr>\n",
       "  </tbody>\n",
       "</table>\n",
       "</div>"
      ],
      "text/plain": [
       "   Vintage  Bordeaux\n",
       "0     2016        97\n",
       "1     2015        94\n",
       "2     2014        93"
      ]
     },
     "execution_count": 44,
     "metadata": {},
     "output_type": "execute_result"
    }
   ],
   "source": [
    "ws.head(3)"
   ]
  },
  {
   "cell_type": "code",
   "execution_count": 45,
   "metadata": {},
   "outputs": [],
   "source": [
    "ws = ws.iloc[::-1].reset_index(drop=True)"
   ]
  },
  {
   "cell_type": "code",
   "execution_count": 46,
   "metadata": {},
   "outputs": [
    {
     "data": {
      "text/html": [
       "<div>\n",
       "<style scoped>\n",
       "    .dataframe tbody tr th:only-of-type {\n",
       "        vertical-align: middle;\n",
       "    }\n",
       "\n",
       "    .dataframe tbody tr th {\n",
       "        vertical-align: top;\n",
       "    }\n",
       "\n",
       "    .dataframe thead th {\n",
       "        text-align: right;\n",
       "    }\n",
       "</style>\n",
       "<table border=\"1\" class=\"dataframe\">\n",
       "  <thead>\n",
       "    <tr style=\"text-align: right;\">\n",
       "      <th></th>\n",
       "      <th>Vintage</th>\n",
       "      <th>Bordeaux</th>\n",
       "    </tr>\n",
       "  </thead>\n",
       "  <tbody>\n",
       "    <tr>\n",
       "      <th>0</th>\n",
       "      <td>1985</td>\n",
       "      <td>93</td>\n",
       "    </tr>\n",
       "    <tr>\n",
       "      <th>1</th>\n",
       "      <td>1986</td>\n",
       "      <td>95</td>\n",
       "    </tr>\n",
       "    <tr>\n",
       "      <th>2</th>\n",
       "      <td>1987</td>\n",
       "      <td>76</td>\n",
       "    </tr>\n",
       "  </tbody>\n",
       "</table>\n",
       "</div>"
      ],
      "text/plain": [
       "   Vintage  Bordeaux\n",
       "0     1985        93\n",
       "1     1986        95\n",
       "2     1987        76"
      ]
     },
     "execution_count": 46,
     "metadata": {},
     "output_type": "execute_result"
    }
   ],
   "source": [
    "ws.head(3)"
   ]
  },
  {
   "cell_type": "code",
   "execution_count": 47,
   "metadata": {},
   "outputs": [],
   "source": [
    "bd_p['Wine_Score']=ws['Bordeaux'].values"
   ]
  },
  {
   "cell_type": "code",
   "execution_count": 48,
   "metadata": {},
   "outputs": [
    {
     "data": {
      "text/html": [
       "<div>\n",
       "<style scoped>\n",
       "    .dataframe tbody tr th:only-of-type {\n",
       "        vertical-align: middle;\n",
       "    }\n",
       "\n",
       "    .dataframe tbody tr th {\n",
       "        vertical-align: top;\n",
       "    }\n",
       "\n",
       "    .dataframe thead tr th {\n",
       "        text-align: left;\n",
       "    }\n",
       "\n",
       "    .dataframe thead tr:last-of-type th {\n",
       "        text-align: right;\n",
       "    }\n",
       "</style>\n",
       "<table border=\"1\" class=\"dataframe\">\n",
       "  <thead>\n",
       "    <tr>\n",
       "      <th>Attribute</th>\n",
       "      <th colspan=\"10\" halign=\"left\">PRCP</th>\n",
       "      <th>...</th>\n",
       "      <th colspan=\"8\" halign=\"left\">TMIN</th>\n",
       "      <th>PRCP_Annual</th>\n",
       "      <th>Wine_Score</th>\n",
       "    </tr>\n",
       "    <tr>\n",
       "      <th>MONTH</th>\n",
       "      <th>1</th>\n",
       "      <th>2</th>\n",
       "      <th>3</th>\n",
       "      <th>4</th>\n",
       "      <th>5</th>\n",
       "      <th>6</th>\n",
       "      <th>7</th>\n",
       "      <th>8</th>\n",
       "      <th>9</th>\n",
       "      <th>10</th>\n",
       "      <th>...</th>\n",
       "      <th>5</th>\n",
       "      <th>6</th>\n",
       "      <th>7</th>\n",
       "      <th>8</th>\n",
       "      <th>9</th>\n",
       "      <th>10</th>\n",
       "      <th>11</th>\n",
       "      <th>12</th>\n",
       "      <th></th>\n",
       "      <th></th>\n",
       "    </tr>\n",
       "    <tr>\n",
       "      <th>YEAR</th>\n",
       "      <th></th>\n",
       "      <th></th>\n",
       "      <th></th>\n",
       "      <th></th>\n",
       "      <th></th>\n",
       "      <th></th>\n",
       "      <th></th>\n",
       "      <th></th>\n",
       "      <th></th>\n",
       "      <th></th>\n",
       "      <th></th>\n",
       "      <th></th>\n",
       "      <th></th>\n",
       "      <th></th>\n",
       "      <th></th>\n",
       "      <th></th>\n",
       "      <th></th>\n",
       "      <th></th>\n",
       "      <th></th>\n",
       "      <th></th>\n",
       "      <th></th>\n",
       "    </tr>\n",
       "  </thead>\n",
       "  <tbody>\n",
       "    <tr>\n",
       "      <th>1985</th>\n",
       "      <td>69.8</td>\n",
       "      <td>84.8</td>\n",
       "      <td>114.9</td>\n",
       "      <td>75.8</td>\n",
       "      <td>137.6</td>\n",
       "      <td>43.6</td>\n",
       "      <td>73.4</td>\n",
       "      <td>33.6</td>\n",
       "      <td>3.6</td>\n",
       "      <td>14.0</td>\n",
       "      <td>...</td>\n",
       "      <td>9.074194</td>\n",
       "      <td>12.536667</td>\n",
       "      <td>15.700000</td>\n",
       "      <td>12.593548</td>\n",
       "      <td>12.173333</td>\n",
       "      <td>8.645161</td>\n",
       "      <td>1.996667</td>\n",
       "      <td>2.561290</td>\n",
       "      <td>825.3</td>\n",
       "      <td>93</td>\n",
       "    </tr>\n",
       "    <tr>\n",
       "      <th>1986</th>\n",
       "      <td>202.7</td>\n",
       "      <td>76.4</td>\n",
       "      <td>51.2</td>\n",
       "      <td>157.2</td>\n",
       "      <td>41.6</td>\n",
       "      <td>10.9</td>\n",
       "      <td>5.0</td>\n",
       "      <td>45.8</td>\n",
       "      <td>125.4</td>\n",
       "      <td>74.8</td>\n",
       "      <td>...</td>\n",
       "      <td>10.267742</td>\n",
       "      <td>12.740000</td>\n",
       "      <td>14.216129</td>\n",
       "      <td>13.319355</td>\n",
       "      <td>11.703333</td>\n",
       "      <td>10.790323</td>\n",
       "      <td>4.843333</td>\n",
       "      <td>3.474194</td>\n",
       "      <td>954.4</td>\n",
       "      <td>95</td>\n",
       "    </tr>\n",
       "    <tr>\n",
       "      <th>1987</th>\n",
       "      <td>28.5</td>\n",
       "      <td>54.2</td>\n",
       "      <td>76.1</td>\n",
       "      <td>43.0</td>\n",
       "      <td>24.2</td>\n",
       "      <td>84.2</td>\n",
       "      <td>86.4</td>\n",
       "      <td>40.1</td>\n",
       "      <td>75.0</td>\n",
       "      <td>142.2</td>\n",
       "      <td>...</td>\n",
       "      <td>8.803226</td>\n",
       "      <td>12.493333</td>\n",
       "      <td>15.858065</td>\n",
       "      <td>14.996774</td>\n",
       "      <td>14.473333</td>\n",
       "      <td>11.141935</td>\n",
       "      <td>5.356667</td>\n",
       "      <td>4.477419</td>\n",
       "      <td>788.3</td>\n",
       "      <td>76</td>\n",
       "    </tr>\n",
       "  </tbody>\n",
       "</table>\n",
       "<p>3 rows × 50 columns</p>\n",
       "</div>"
      ],
      "text/plain": [
       "Attribute   PRCP                                                             \\\n",
       "MONTH          1     2      3      4      5     6     7     8      9     10   \n",
       "YEAR                                                                          \n",
       "1985        69.8  84.8  114.9   75.8  137.6  43.6  73.4  33.6    3.6   14.0   \n",
       "1986       202.7  76.4   51.2  157.2   41.6  10.9   5.0  45.8  125.4   74.8   \n",
       "1987        28.5  54.2   76.1   43.0   24.2  84.2  86.4  40.1   75.0  142.2   \n",
       "\n",
       "Attribute  ...       TMIN                                              \\\n",
       "MONTH      ...          5          6          7          8          9   \n",
       "YEAR       ...                                                          \n",
       "1985       ...   9.074194  12.536667  15.700000  12.593548  12.173333   \n",
       "1986       ...  10.267742  12.740000  14.216129  13.319355  11.703333   \n",
       "1987       ...   8.803226  12.493333  15.858065  14.996774  14.473333   \n",
       "\n",
       "Attribute                                PRCP_Annual Wine_Score  \n",
       "MONTH             10        11        12                         \n",
       "YEAR                                                             \n",
       "1985        8.645161  1.996667  2.561290       825.3         93  \n",
       "1986       10.790323  4.843333  3.474194       954.4         95  \n",
       "1987       11.141935  5.356667  4.477419       788.3         76  \n",
       "\n",
       "[3 rows x 50 columns]"
      ]
     },
     "execution_count": 48,
     "metadata": {},
     "output_type": "execute_result"
    }
   ],
   "source": [
    "bd_p.head(3)"
   ]
  },
  {
   "cell_type": "code",
   "execution_count": 49,
   "metadata": {},
   "outputs": [
    {
     "data": {
      "text/html": [
       "<div>\n",
       "<style scoped>\n",
       "    .dataframe tbody tr th:only-of-type {\n",
       "        vertical-align: middle;\n",
       "    }\n",
       "\n",
       "    .dataframe tbody tr th {\n",
       "        vertical-align: top;\n",
       "    }\n",
       "\n",
       "    .dataframe thead tr th {\n",
       "        text-align: left;\n",
       "    }\n",
       "\n",
       "    .dataframe thead tr:last-of-type th {\n",
       "        text-align: right;\n",
       "    }\n",
       "</style>\n",
       "<table border=\"1\" class=\"dataframe\">\n",
       "  <thead>\n",
       "    <tr>\n",
       "      <th></th>\n",
       "      <th>Attribute</th>\n",
       "      <th>Wine_Score</th>\n",
       "      <th>PRCP_Annual</th>\n",
       "    </tr>\n",
       "    <tr>\n",
       "      <th></th>\n",
       "      <th>MONTH</th>\n",
       "      <th></th>\n",
       "      <th></th>\n",
       "    </tr>\n",
       "    <tr>\n",
       "      <th>Attribute</th>\n",
       "      <th>MONTH</th>\n",
       "      <th></th>\n",
       "      <th></th>\n",
       "    </tr>\n",
       "  </thead>\n",
       "  <tbody>\n",
       "    <tr>\n",
       "      <th>Wine_Score</th>\n",
       "      <th></th>\n",
       "      <td>1.000000</td>\n",
       "      <td>-0.369876</td>\n",
       "    </tr>\n",
       "    <tr>\n",
       "      <th>PRCP_Annual</th>\n",
       "      <th></th>\n",
       "      <td>-0.369876</td>\n",
       "      <td>1.000000</td>\n",
       "    </tr>\n",
       "  </tbody>\n",
       "</table>\n",
       "</div>"
      ],
      "text/plain": [
       "Attribute         Wine_Score PRCP_Annual\n",
       "MONTH                                   \n",
       "Attribute   MONTH                       \n",
       "Wine_Score          1.000000   -0.369876\n",
       "PRCP_Annual        -0.369876    1.000000"
      ]
     },
     "execution_count": 49,
     "metadata": {},
     "output_type": "execute_result"
    }
   ],
   "source": [
    "bd_p[['Wine_Score','PRCP_Annual']].corr()"
   ]
  },
  {
   "cell_type": "markdown",
   "metadata": {},
   "source": [
    "### EDA"
   ]
  },
  {
   "cell_type": "code",
   "execution_count": 50,
   "metadata": {},
   "outputs": [
    {
     "data": {
      "text/plain": [
       "<seaborn.axisgrid.JointGrid at 0x12e567160>"
      ]
     },
     "execution_count": 50,
     "metadata": {},
     "output_type": "execute_result"
    },
    {
     "data": {
      "image/png": "[encoded data removed]",
      "text/plain": [
       "<Figure size 432x432 with 3 Axes>"
      ]
     },
     "metadata": {
      "needs_background": "light"
     },
     "output_type": "display_data"
    }
   ],
   "source": [
    "sns.jointplot(x='PRCP_Annual',y='Wine_Score',data=bd_p,kind='scatter')"
   ]
  },
  {
   "cell_type": "code",
   "execution_count": 51,
   "metadata": {},
   "outputs": [
    {
     "data": {
      "text/plain": [
       "<matplotlib.axes._subplots.AxesSubplot at 0x12e85da58>"
      ]
     },
     "execution_count": 51,
     "metadata": {},
     "output_type": "execute_result"
    },
    {
     "data": {
      "image/png": "[encoded data removed]",
      "text/plain": [
       "<Figure size 432x288 with 1 Axes>"
      ]
     },
     "metadata": {
      "needs_background": "light"
     },
     "output_type": "display_data"
    }
   ],
   "source": [
    "bd_p.TAVG.mean(axis=1).plot()"
   ]
  },
  {
   "cell_type": "code",
   "execution_count": 52,
   "metadata": {},
   "outputs": [
    {
     "data": {
      "text/html": [
       "<div>\n",
       "<style scoped>\n",
       "    .dataframe tbody tr th:only-of-type {\n",
       "        vertical-align: middle;\n",
       "    }\n",
       "\n",
       "    .dataframe tbody tr th {\n",
       "        vertical-align: top;\n",
       "    }\n",
       "\n",
       "    .dataframe thead th {\n",
       "        text-align: right;\n",
       "    }\n",
       "</style>\n",
       "<table border=\"1\" class=\"dataframe\">\n",
       "  <thead>\n",
       "    <tr style=\"text-align: right;\">\n",
       "      <th></th>\n",
       "      <th>DATE</th>\n",
       "      <th>PRCP</th>\n",
       "      <th>TMAX</th>\n",
       "      <th>TMIN</th>\n",
       "      <th>YEAR</th>\n",
       "      <th>MONTH</th>\n",
       "      <th>DAY</th>\n",
       "      <th>TAVG</th>\n",
       "    </tr>\n",
       "  </thead>\n",
       "  <tbody>\n",
       "    <tr>\n",
       "      <th>0</th>\n",
       "      <td>1985-01-01</td>\n",
       "      <td>0.0</td>\n",
       "      <td>8.6</td>\n",
       "      <td>2.1</td>\n",
       "      <td>1985</td>\n",
       "      <td>1</td>\n",
       "      <td>1</td>\n",
       "      <td>5.35</td>\n",
       "    </tr>\n",
       "    <tr>\n",
       "      <th>1</th>\n",
       "      <td>1985-01-02</td>\n",
       "      <td>0.0</td>\n",
       "      <td>6.7</td>\n",
       "      <td>-0.7</td>\n",
       "      <td>1985</td>\n",
       "      <td>1</td>\n",
       "      <td>2</td>\n",
       "      <td>3.00</td>\n",
       "    </tr>\n",
       "    <tr>\n",
       "      <th>2</th>\n",
       "      <td>1985-01-03</td>\n",
       "      <td>0.0</td>\n",
       "      <td>5.9</td>\n",
       "      <td>-5.0</td>\n",
       "      <td>1985</td>\n",
       "      <td>1</td>\n",
       "      <td>3</td>\n",
       "      <td>0.45</td>\n",
       "    </tr>\n",
       "  </tbody>\n",
       "</table>\n",
       "</div>"
      ],
      "text/plain": [
       "        DATE  PRCP  TMAX  TMIN  YEAR  MONTH  DAY  TAVG\n",
       "0 1985-01-01   0.0   8.6   2.1  1985      1    1  5.35\n",
       "1 1985-01-02   0.0   6.7  -0.7  1985      1    2  3.00\n",
       "2 1985-01-03   0.0   5.9  -5.0  1985      1    3  0.45"
      ]
     },
     "execution_count": 52,
     "metadata": {},
     "output_type": "execute_result"
    }
   ],
   "source": [
    "bd_temp.head(3)"
   ]
  },
  {
   "cell_type": "code",
   "execution_count": 53,
   "metadata": {},
   "outputs": [
    {
     "data": {
      "image/png": "[encoded data removed]",
      "text/plain": [
       "<Figure size 576x288 with 1 Axes>"
      ]
     },
     "metadata": {
      "needs_background": "light"
     },
     "output_type": "display_data"
    }
   ],
   "source": [
    "plt.figure(figsize=(8,4))\n",
    "bd_p.TAVG.mean(axis=1).plot(label='TAVG')\n",
    "plt.legend(bbox_to_anchor=(1,1),loc=2,borderaxespad=0.)\n",
    "\n",
    "ax = plt.gca()\n",
    "ax.grid(color= (0.1,0.1,0.1), linestyle='--',linewidth=1, alpha=0.2)\n",
    "plt.autoscale(enable=True,axis='x',tight=True)\n",
    "plt.ylabel('Temperature (°C)')\n",
    "sns.despine()"
   ]
  },
  {
   "cell_type": "code",
   "execution_count": 54,
   "metadata": {},
   "outputs": [
    {
     "data": {
      "text/plain": [
       "<matplotlib.axes._subplots.AxesSubplot at 0x12f0ac4a8>"
      ]
     },
     "execution_count": 54,
     "metadata": {},
     "output_type": "execute_result"
    },
    {
     "data": {
      "image/png": "[encoded data removed]",
      "text/plain": [
       "<Figure size 864x720 with 2 Axes>"
      ]
     },
     "metadata": {
      "needs_background": "light"
     },
     "output_type": "display_data"
    }
   ],
   "source": [
    "plt.figure(figsize=(12,10))\n",
    "sns.heatmap(bd_p.corr(),cmap='coolwarm')"
   ]
  },
  {
   "cell_type": "markdown",
   "metadata": {},
   "source": [
    ">\n",
    "> **Wine score is somewhat correlated (~0.6) with PRCP 6-10, particularly PRCP 7.**\n",
    ">"
   ]
  },
  {
   "cell_type": "code",
   "execution_count": 44,
   "metadata": {},
   "outputs": [],
   "source": [
    "#s = bd_p.corr().abs().unstack().unstack().sort_values(ascending=False)\n",
    "#s = bd_p.sort_values()"
   ]
  },
  {
   "cell_type": "code",
   "execution_count": 45,
   "metadata": {},
   "outputs": [
    {
     "data": {
      "text/plain": [
       "3900"
      ]
     },
     "execution_count": 45,
     "metadata": {},
     "output_type": "execute_result"
    }
   ],
   "source": [
    "#len(s)"
   ]
  },
  {
   "cell_type": "code",
   "execution_count": 47,
   "metadata": {},
   "outputs": [],
   "source": [
    "#s[(s >= 0.6) & (s < 0.9)]"
   ]
  },
  {
   "cell_type": "markdown",
   "metadata": {},
   "source": [
    "### Now explore seasonality"
   ]
  },
  {
   "cell_type": "code",
   "execution_count": 55,
   "metadata": {},
   "outputs": [],
   "source": [
    "bds = pd.DataFrame()\n",
    "\n",
    "for j,i in enumerate(range(1,11,3)):\n",
    "    q = j+1\n",
    "    bds['PRCP_Q'+str(q)] = bd_p.PRCP[[i,i+1,i+2]].sum(axis=1)"
   ]
  },
  {
   "cell_type": "code",
   "execution_count": 56,
   "metadata": {},
   "outputs": [
    {
     "data": {
      "text/html": [
       "<div>\n",
       "<style scoped>\n",
       "    .dataframe tbody tr th:only-of-type {\n",
       "        vertical-align: middle;\n",
       "    }\n",
       "\n",
       "    .dataframe tbody tr th {\n",
       "        vertical-align: top;\n",
       "    }\n",
       "\n",
       "    .dataframe thead th {\n",
       "        text-align: right;\n",
       "    }\n",
       "</style>\n",
       "<table border=\"1\" class=\"dataframe\">\n",
       "  <thead>\n",
       "    <tr style=\"text-align: right;\">\n",
       "      <th></th>\n",
       "      <th>PRCP_Q1</th>\n",
       "      <th>PRCP_Q2</th>\n",
       "      <th>PRCP_Q3</th>\n",
       "      <th>PRCP_Q4</th>\n",
       "    </tr>\n",
       "    <tr>\n",
       "      <th>YEAR</th>\n",
       "      <th></th>\n",
       "      <th></th>\n",
       "      <th></th>\n",
       "      <th></th>\n",
       "    </tr>\n",
       "  </thead>\n",
       "  <tbody>\n",
       "    <tr>\n",
       "      <th>1985</th>\n",
       "      <td>269.5</td>\n",
       "      <td>257.0</td>\n",
       "      <td>110.6</td>\n",
       "      <td>188.2</td>\n",
       "    </tr>\n",
       "    <tr>\n",
       "      <th>1986</th>\n",
       "      <td>330.3</td>\n",
       "      <td>209.7</td>\n",
       "      <td>176.2</td>\n",
       "      <td>238.2</td>\n",
       "    </tr>\n",
       "    <tr>\n",
       "      <th>1987</th>\n",
       "      <td>158.8</td>\n",
       "      <td>151.4</td>\n",
       "      <td>201.5</td>\n",
       "      <td>276.6</td>\n",
       "    </tr>\n",
       "  </tbody>\n",
       "</table>\n",
       "</div>"
      ],
      "text/plain": [
       "      PRCP_Q1  PRCP_Q2  PRCP_Q3  PRCP_Q4\n",
       "YEAR                                    \n",
       "1985    269.5    257.0    110.6    188.2\n",
       "1986    330.3    209.7    176.2    238.2\n",
       "1987    158.8    151.4    201.5    276.6"
      ]
     },
     "execution_count": 56,
     "metadata": {},
     "output_type": "execute_result"
    }
   ],
   "source": [
    "bds.head(3)"
   ]
  },
  {
   "cell_type": "code",
   "execution_count": 57,
   "metadata": {},
   "outputs": [],
   "source": [
    "for j,i in enumerate(range(1,11,3)):\n",
    "    q = j+1\n",
    "    bds['TAVG_Q'+str(q)] = bd_p.TAVG[[i,i+1,i+2]].mean(axis=1)"
   ]
  },
  {
   "cell_type": "code",
   "execution_count": 58,
   "metadata": {},
   "outputs": [],
   "source": [
    "for j,i in enumerate(range(1,11,3)):\n",
    "    q = j+1\n",
    "    bds['TMAX_Q'+str(q)] = bd_p.TMAX[[i,i+1,i+2]].mean(axis=1)"
   ]
  },
  {
   "cell_type": "code",
   "execution_count": 59,
   "metadata": {},
   "outputs": [],
   "source": [
    "for j,i in enumerate(range(1,11,3)):\n",
    "    q = j+1\n",
    "    bds['TMIN_Q'+str(q)] = bd_p.TMIN[[i,i+1,i+2]].mean(axis=1)"
   ]
  },
  {
   "cell_type": "code",
   "execution_count": 60,
   "metadata": {},
   "outputs": [],
   "source": [
    "bds['PRCP_Annual']=bd_p.PRCP_Annual"
   ]
  },
  {
   "cell_type": "code",
   "execution_count": 61,
   "metadata": {},
   "outputs": [],
   "source": [
    "bds['Wine_Score'] = bd_p.Wine_Score"
   ]
  },
  {
   "cell_type": "code",
   "execution_count": 62,
   "metadata": {},
   "outputs": [
    {
     "data": {
      "text/plain": [
       "18"
      ]
     },
     "execution_count": 62,
     "metadata": {},
     "output_type": "execute_result"
    }
   ],
   "source": [
    "len(bds.columns)"
   ]
  },
  {
   "cell_type": "code",
   "execution_count": 63,
   "metadata": {},
   "outputs": [
    {
     "data": {
      "text/plain": [
       "<matplotlib.axes._subplots.AxesSubplot at 0x12ebfba20>"
      ]
     },
     "execution_count": 63,
     "metadata": {},
     "output_type": "execute_result"
    },
    {
     "data": {
      "image/png": "[encoded data removed]",
      "text/plain": [
       "<Figure size 720x576 with 2 Axes>"
      ]
     },
     "metadata": {
      "needs_background": "light"
     },
     "output_type": "display_data"
    }
   ],
   "source": [
    "plt.figure(figsize=(10,8))\n",
    "sns.heatmap(bds.corr(),cmap='coolwarm')"
   ]
  },
  {
   "cell_type": "markdown",
   "metadata": {},
   "source": [
    ">\n",
    "> **Wine socre is more correlated with PRCP_Q3.**\n",
    ">"
   ]
  },
  {
   "cell_type": "code",
   "execution_count": 64,
   "metadata": {},
   "outputs": [
    {
     "data": {
      "text/html": [
       "<div>\n",
       "<style scoped>\n",
       "    .dataframe tbody tr th:only-of-type {\n",
       "        vertical-align: middle;\n",
       "    }\n",
       "\n",
       "    .dataframe tbody tr th {\n",
       "        vertical-align: top;\n",
       "    }\n",
       "\n",
       "    .dataframe thead th {\n",
       "        text-align: right;\n",
       "    }\n",
       "</style>\n",
       "<table border=\"1\" class=\"dataframe\">\n",
       "  <thead>\n",
       "    <tr style=\"text-align: right;\">\n",
       "      <th></th>\n",
       "      <th>PRCP_Q1</th>\n",
       "      <th>PRCP_Q2</th>\n",
       "      <th>PRCP_Q3</th>\n",
       "      <th>PRCP_Q4</th>\n",
       "      <th>TAVG_Q1</th>\n",
       "      <th>TAVG_Q2</th>\n",
       "      <th>TAVG_Q3</th>\n",
       "      <th>TAVG_Q4</th>\n",
       "      <th>TMAX_Q1</th>\n",
       "      <th>TMAX_Q2</th>\n",
       "      <th>TMAX_Q3</th>\n",
       "      <th>TMAX_Q4</th>\n",
       "      <th>TMIN_Q1</th>\n",
       "      <th>TMIN_Q2</th>\n",
       "      <th>TMIN_Q3</th>\n",
       "      <th>TMIN_Q4</th>\n",
       "      <th>PRCP_Annual</th>\n",
       "      <th>Wine_Score</th>\n",
       "    </tr>\n",
       "  </thead>\n",
       "  <tbody>\n",
       "    <tr>\n",
       "      <th>PRCP_Q1</th>\n",
       "      <td>1.000000</td>\n",
       "      <td>-0.022781</td>\n",
       "      <td>-0.226338</td>\n",
       "      <td>-0.539828</td>\n",
       "      <td>0.230731</td>\n",
       "      <td>-0.170192</td>\n",
       "      <td>-0.003376</td>\n",
       "      <td>-0.007761</td>\n",
       "      <td>0.003386</td>\n",
       "      <td>-0.227311</td>\n",
       "      <td>0.045423</td>\n",
       "      <td>0.137314</td>\n",
       "      <td>0.441080</td>\n",
       "      <td>-0.068382</td>\n",
       "      <td>-0.059845</td>\n",
       "      <td>-0.148326</td>\n",
       "      <td>0.148360</td>\n",
       "      <td>0.333590</td>\n",
       "    </tr>\n",
       "    <tr>\n",
       "      <th>PRCP_Q2</th>\n",
       "      <td>-0.022781</td>\n",
       "      <td>1.000000</td>\n",
       "      <td>0.215646</td>\n",
       "      <td>0.363924</td>\n",
       "      <td>0.144579</td>\n",
       "      <td>-0.378664</td>\n",
       "      <td>-0.217852</td>\n",
       "      <td>-0.165814</td>\n",
       "      <td>0.247217</td>\n",
       "      <td>-0.481173</td>\n",
       "      <td>-0.199580</td>\n",
       "      <td>-0.215159</td>\n",
       "      <td>0.019675</td>\n",
       "      <td>-0.188084</td>\n",
       "      <td>-0.205096</td>\n",
       "      <td>-0.099732</td>\n",
       "      <td>0.738781</td>\n",
       "      <td>-0.267205</td>\n",
       "    </tr>\n",
       "    <tr>\n",
       "      <th>PRCP_Q3</th>\n",
       "      <td>-0.226338</td>\n",
       "      <td>0.215646</td>\n",
       "      <td>1.000000</td>\n",
       "      <td>0.214932</td>\n",
       "      <td>0.012567</td>\n",
       "      <td>-0.185689</td>\n",
       "      <td>-0.111140</td>\n",
       "      <td>-0.045795</td>\n",
       "      <td>0.047434</td>\n",
       "      <td>-0.162004</td>\n",
       "      <td>-0.294481</td>\n",
       "      <td>-0.156900</td>\n",
       "      <td>-0.025465</td>\n",
       "      <td>-0.200370</td>\n",
       "      <td>0.120397</td>\n",
       "      <td>0.067468</td>\n",
       "      <td>0.541557</td>\n",
       "      <td>-0.711203</td>\n",
       "    </tr>\n",
       "    <tr>\n",
       "      <th>PRCP_Q4</th>\n",
       "      <td>-0.539828</td>\n",
       "      <td>0.363924</td>\n",
       "      <td>0.214932</td>\n",
       "      <td>1.000000</td>\n",
       "      <td>-0.002781</td>\n",
       "      <td>-0.021914</td>\n",
       "      <td>0.104873</td>\n",
       "      <td>0.005633</td>\n",
       "      <td>0.147454</td>\n",
       "      <td>-0.027554</td>\n",
       "      <td>0.073721</td>\n",
       "      <td>-0.183913</td>\n",
       "      <td>-0.159802</td>\n",
       "      <td>-0.011311</td>\n",
       "      <td>0.124844</td>\n",
       "      <td>0.189777</td>\n",
       "      <td>0.558656</td>\n",
       "      <td>-0.216151</td>\n",
       "    </tr>\n",
       "    <tr>\n",
       "      <th>TAVG_Q1</th>\n",
       "      <td>0.230731</td>\n",
       "      <td>0.144579</td>\n",
       "      <td>0.012567</td>\n",
       "      <td>-0.002781</td>\n",
       "      <td>1.000000</td>\n",
       "      <td>0.327046</td>\n",
       "      <td>-0.012702</td>\n",
       "      <td>0.216964</td>\n",
       "      <td>0.943955</td>\n",
       "      <td>0.255954</td>\n",
       "      <td>-0.118354</td>\n",
       "      <td>0.201921</td>\n",
       "      <td>0.938338</td>\n",
       "      <td>0.395860</td>\n",
       "      <td>0.112687</td>\n",
       "      <td>0.208095</td>\n",
       "      <td>0.204046</td>\n",
       "      <td>0.099019</td>\n",
       "    </tr>\n",
       "    <tr>\n",
       "      <th>TAVG_Q2</th>\n",
       "      <td>-0.170192</td>\n",
       "      <td>-0.378664</td>\n",
       "      <td>-0.185689</td>\n",
       "      <td>-0.021914</td>\n",
       "      <td>0.327046</td>\n",
       "      <td>1.000000</td>\n",
       "      <td>0.172456</td>\n",
       "      <td>0.342434</td>\n",
       "      <td>0.342458</td>\n",
       "      <td>0.970471</td>\n",
       "      <td>0.088381</td>\n",
       "      <td>0.330354</td>\n",
       "      <td>0.271539</td>\n",
       "      <td>0.935730</td>\n",
       "      <td>0.243662</td>\n",
       "      <td>0.317071</td>\n",
       "      <td>-0.360824</td>\n",
       "      <td>0.367593</td>\n",
       "    </tr>\n",
       "    <tr>\n",
       "      <th>TAVG_Q3</th>\n",
       "      <td>-0.003376</td>\n",
       "      <td>-0.217852</td>\n",
       "      <td>-0.111140</td>\n",
       "      <td>0.104873</td>\n",
       "      <td>-0.012702</td>\n",
       "      <td>0.172456</td>\n",
       "      <td>1.000000</td>\n",
       "      <td>0.271195</td>\n",
       "      <td>0.001478</td>\n",
       "      <td>0.191677</td>\n",
       "      <td>0.938592</td>\n",
       "      <td>0.228730</td>\n",
       "      <td>-0.026025</td>\n",
       "      <td>0.125820</td>\n",
       "      <td>0.915203</td>\n",
       "      <td>0.283175</td>\n",
       "      <td>-0.078574</td>\n",
       "      <td>0.070501</td>\n",
       "    </tr>\n",
       "    <tr>\n",
       "      <th>TAVG_Q4</th>\n",
       "      <td>-0.007761</td>\n",
       "      <td>-0.165814</td>\n",
       "      <td>-0.045795</td>\n",
       "      <td>0.005633</td>\n",
       "      <td>0.216964</td>\n",
       "      <td>0.342434</td>\n",
       "      <td>0.271195</td>\n",
       "      <td>1.000000</td>\n",
       "      <td>0.238961</td>\n",
       "      <td>0.399987</td>\n",
       "      <td>0.154402</td>\n",
       "      <td>0.943612</td>\n",
       "      <td>0.167810</td>\n",
       "      <td>0.221485</td>\n",
       "      <td>0.365162</td>\n",
       "      <td>0.946506</td>\n",
       "      <td>-0.092298</td>\n",
       "      <td>0.175532</td>\n",
       "    </tr>\n",
       "    <tr>\n",
       "      <th>TMAX_Q1</th>\n",
       "      <td>0.003386</td>\n",
       "      <td>0.247217</td>\n",
       "      <td>0.047434</td>\n",
       "      <td>0.147454</td>\n",
       "      <td>0.943955</td>\n",
       "      <td>0.342458</td>\n",
       "      <td>0.001478</td>\n",
       "      <td>0.238961</td>\n",
       "      <td>1.000000</td>\n",
       "      <td>0.294752</td>\n",
       "      <td>-0.076661</td>\n",
       "      <td>0.216263</td>\n",
       "      <td>0.771636</td>\n",
       "      <td>0.375419</td>\n",
       "      <td>0.092511</td>\n",
       "      <td>0.235167</td>\n",
       "      <td>0.221702</td>\n",
       "      <td>0.107505</td>\n",
       "    </tr>\n",
       "    <tr>\n",
       "      <th>TMAX_Q2</th>\n",
       "      <td>-0.227311</td>\n",
       "      <td>-0.481173</td>\n",
       "      <td>-0.162004</td>\n",
       "      <td>-0.027554</td>\n",
       "      <td>0.255954</td>\n",
       "      <td>0.970471</td>\n",
       "      <td>0.191677</td>\n",
       "      <td>0.399987</td>\n",
       "      <td>0.294752</td>\n",
       "      <td>1.000000</td>\n",
       "      <td>0.117171</td>\n",
       "      <td>0.401471</td>\n",
       "      <td>0.184509</td>\n",
       "      <td>0.823018</td>\n",
       "      <td>0.248697</td>\n",
       "      <td>0.355160</td>\n",
       "      <td>-0.431674</td>\n",
       "      <td>0.377356</td>\n",
       "    </tr>\n",
       "    <tr>\n",
       "      <th>TMAX_Q3</th>\n",
       "      <td>0.045423</td>\n",
       "      <td>-0.199580</td>\n",
       "      <td>-0.294481</td>\n",
       "      <td>0.073721</td>\n",
       "      <td>-0.118354</td>\n",
       "      <td>0.088381</td>\n",
       "      <td>0.938592</td>\n",
       "      <td>0.154402</td>\n",
       "      <td>-0.076661</td>\n",
       "      <td>0.117171</td>\n",
       "      <td>1.000000</td>\n",
       "      <td>0.175685</td>\n",
       "      <td>-0.147778</td>\n",
       "      <td>0.036786</td>\n",
       "      <td>0.719957</td>\n",
       "      <td>0.116910</td>\n",
       "      <td>-0.143658</td>\n",
       "      <td>0.257243</td>\n",
       "    </tr>\n",
       "    <tr>\n",
       "      <th>TMAX_Q4</th>\n",
       "      <td>0.137314</td>\n",
       "      <td>-0.215159</td>\n",
       "      <td>-0.156900</td>\n",
       "      <td>-0.183913</td>\n",
       "      <td>0.201921</td>\n",
       "      <td>0.330354</td>\n",
       "      <td>0.228730</td>\n",
       "      <td>0.943612</td>\n",
       "      <td>0.216263</td>\n",
       "      <td>0.401471</td>\n",
       "      <td>0.175685</td>\n",
       "      <td>1.000000</td>\n",
       "      <td>0.162595</td>\n",
       "      <td>0.190867</td>\n",
       "      <td>0.254884</td>\n",
       "      <td>0.786309</td>\n",
       "      <td>-0.195816</td>\n",
       "      <td>0.311460</td>\n",
       "    </tr>\n",
       "    <tr>\n",
       "      <th>TMIN_Q1</th>\n",
       "      <td>0.441080</td>\n",
       "      <td>0.019675</td>\n",
       "      <td>-0.025465</td>\n",
       "      <td>-0.159802</td>\n",
       "      <td>0.938338</td>\n",
       "      <td>0.271539</td>\n",
       "      <td>-0.026025</td>\n",
       "      <td>0.167810</td>\n",
       "      <td>0.771636</td>\n",
       "      <td>0.184509</td>\n",
       "      <td>-0.147778</td>\n",
       "      <td>0.162595</td>\n",
       "      <td>1.000000</td>\n",
       "      <td>0.369622</td>\n",
       "      <td>0.120255</td>\n",
       "      <td>0.154692</td>\n",
       "      <td>0.160994</td>\n",
       "      <td>0.078212</td>\n",
       "    </tr>\n",
       "    <tr>\n",
       "      <th>TMIN_Q2</th>\n",
       "      <td>-0.068382</td>\n",
       "      <td>-0.188084</td>\n",
       "      <td>-0.200370</td>\n",
       "      <td>-0.011311</td>\n",
       "      <td>0.395860</td>\n",
       "      <td>0.935730</td>\n",
       "      <td>0.125820</td>\n",
       "      <td>0.221485</td>\n",
       "      <td>0.375419</td>\n",
       "      <td>0.823018</td>\n",
       "      <td>0.036786</td>\n",
       "      <td>0.190867</td>\n",
       "      <td>0.369622</td>\n",
       "      <td>1.000000</td>\n",
       "      <td>0.210118</td>\n",
       "      <td>0.227307</td>\n",
       "      <td>-0.218455</td>\n",
       "      <td>0.313820</td>\n",
       "    </tr>\n",
       "    <tr>\n",
       "      <th>TMIN_Q3</th>\n",
       "      <td>-0.059845</td>\n",
       "      <td>-0.205096</td>\n",
       "      <td>0.120397</td>\n",
       "      <td>0.124844</td>\n",
       "      <td>0.112687</td>\n",
       "      <td>0.243662</td>\n",
       "      <td>0.915203</td>\n",
       "      <td>0.365162</td>\n",
       "      <td>0.092511</td>\n",
       "      <td>0.248697</td>\n",
       "      <td>0.719957</td>\n",
       "      <td>0.254884</td>\n",
       "      <td>0.120255</td>\n",
       "      <td>0.210118</td>\n",
       "      <td>1.000000</td>\n",
       "      <td>0.433048</td>\n",
       "      <td>0.009743</td>\n",
       "      <td>-0.158647</td>\n",
       "    </tr>\n",
       "    <tr>\n",
       "      <th>TMIN_Q4</th>\n",
       "      <td>-0.148326</td>\n",
       "      <td>-0.099732</td>\n",
       "      <td>0.067468</td>\n",
       "      <td>0.189777</td>\n",
       "      <td>0.208095</td>\n",
       "      <td>0.317071</td>\n",
       "      <td>0.283175</td>\n",
       "      <td>0.946506</td>\n",
       "      <td>0.235167</td>\n",
       "      <td>0.355160</td>\n",
       "      <td>0.116910</td>\n",
       "      <td>0.786309</td>\n",
       "      <td>0.154692</td>\n",
       "      <td>0.227307</td>\n",
       "      <td>0.433048</td>\n",
       "      <td>1.000000</td>\n",
       "      <td>0.018615</td>\n",
       "      <td>0.024004</td>\n",
       "    </tr>\n",
       "    <tr>\n",
       "      <th>PRCP_Annual</th>\n",
       "      <td>0.148360</td>\n",
       "      <td>0.738781</td>\n",
       "      <td>0.541557</td>\n",
       "      <td>0.558656</td>\n",
       "      <td>0.204046</td>\n",
       "      <td>-0.360824</td>\n",
       "      <td>-0.078574</td>\n",
       "      <td>-0.092298</td>\n",
       "      <td>0.221702</td>\n",
       "      <td>-0.431674</td>\n",
       "      <td>-0.143658</td>\n",
       "      <td>-0.195816</td>\n",
       "      <td>0.160994</td>\n",
       "      <td>-0.218455</td>\n",
       "      <td>0.009743</td>\n",
       "      <td>0.018615</td>\n",
       "      <td>1.000000</td>\n",
       "      <td>-0.369876</td>\n",
       "    </tr>\n",
       "    <tr>\n",
       "      <th>Wine_Score</th>\n",
       "      <td>0.333590</td>\n",
       "      <td>-0.267205</td>\n",
       "      <td>-0.711203</td>\n",
       "      <td>-0.216151</td>\n",
       "      <td>0.099019</td>\n",
       "      <td>0.367593</td>\n",
       "      <td>0.070501</td>\n",
       "      <td>0.175532</td>\n",
       "      <td>0.107505</td>\n",
       "      <td>0.377356</td>\n",
       "      <td>0.257243</td>\n",
       "      <td>0.311460</td>\n",
       "      <td>0.078212</td>\n",
       "      <td>0.313820</td>\n",
       "      <td>-0.158647</td>\n",
       "      <td>0.024004</td>\n",
       "      <td>-0.369876</td>\n",
       "      <td>1.000000</td>\n",
       "    </tr>\n",
       "  </tbody>\n",
       "</table>\n",
       "</div>"
      ],
      "text/plain": [
       "              PRCP_Q1   PRCP_Q2   PRCP_Q3   PRCP_Q4   TAVG_Q1   TAVG_Q2  \\\n",
       "PRCP_Q1      1.000000 -0.022781 -0.226338 -0.539828  0.230731 -0.170192   \n",
       "PRCP_Q2     -0.022781  1.000000  0.215646  0.363924  0.144579 -0.378664   \n",
       "PRCP_Q3     -0.226338  0.215646  1.000000  0.214932  0.012567 -0.185689   \n",
       "PRCP_Q4     -0.539828  0.363924  0.214932  1.000000 -0.002781 -0.021914   \n",
       "TAVG_Q1      0.230731  0.144579  0.012567 -0.002781  1.000000  0.327046   \n",
       "TAVG_Q2     -0.170192 -0.378664 -0.185689 -0.021914  0.327046  1.000000   \n",
       "TAVG_Q3     -0.003376 -0.217852 -0.111140  0.104873 -0.012702  0.172456   \n",
       "TAVG_Q4     -0.007761 -0.165814 -0.045795  0.005633  0.216964  0.342434   \n",
       "TMAX_Q1      0.003386  0.247217  0.047434  0.147454  0.943955  0.342458   \n",
       "TMAX_Q2     -0.227311 -0.481173 -0.162004 -0.027554  0.255954  0.970471   \n",
       "TMAX_Q3      0.045423 -0.199580 -0.294481  0.073721 -0.118354  0.088381   \n",
       "TMAX_Q4      0.137314 -0.215159 -0.156900 -0.183913  0.201921  0.330354   \n",
       "TMIN_Q1      0.441080  0.019675 -0.025465 -0.159802  0.938338  0.271539   \n",
       "TMIN_Q2     -0.068382 -0.188084 -0.200370 -0.011311  0.395860  0.935730   \n",
       "TMIN_Q3     -0.059845 -0.205096  0.120397  0.124844  0.112687  0.243662   \n",
       "TMIN_Q4     -0.148326 -0.099732  0.067468  0.189777  0.208095  0.317071   \n",
       "PRCP_Annual  0.148360  0.738781  0.541557  0.558656  0.204046 -0.360824   \n",
       "Wine_Score   0.333590 -0.267205 -0.711203 -0.216151  0.099019  0.367593   \n",
       "\n",
       "              TAVG_Q3   TAVG_Q4   TMAX_Q1   TMAX_Q2   TMAX_Q3   TMAX_Q4  \\\n",
       "PRCP_Q1     -0.003376 -0.007761  0.003386 -0.227311  0.045423  0.137314   \n",
       "PRCP_Q2     -0.217852 -0.165814  0.247217 -0.481173 -0.199580 -0.215159   \n",
       "PRCP_Q3     -0.111140 -0.045795  0.047434 -0.162004 -0.294481 -0.156900   \n",
       "PRCP_Q4      0.104873  0.005633  0.147454 -0.027554  0.073721 -0.183913   \n",
       "TAVG_Q1     -0.012702  0.216964  0.943955  0.255954 -0.118354  0.201921   \n",
       "TAVG_Q2      0.172456  0.342434  0.342458  0.970471  0.088381  0.330354   \n",
       "TAVG_Q3      1.000000  0.271195  0.001478  0.191677  0.938592  0.228730   \n",
       "TAVG_Q4      0.271195  1.000000  0.238961  0.399987  0.154402  0.943612   \n",
       "TMAX_Q1      0.001478  0.238961  1.000000  0.294752 -0.076661  0.216263   \n",
       "TMAX_Q2      0.191677  0.399987  0.294752  1.000000  0.117171  0.401471   \n",
       "TMAX_Q3      0.938592  0.154402 -0.076661  0.117171  1.000000  0.175685   \n",
       "TMAX_Q4      0.228730  0.943612  0.216263  0.401471  0.175685  1.000000   \n",
       "TMIN_Q1     -0.026025  0.167810  0.771636  0.184509 -0.147778  0.162595   \n",
       "TMIN_Q2      0.125820  0.221485  0.375419  0.823018  0.036786  0.190867   \n",
       "TMIN_Q3      0.915203  0.365162  0.092511  0.248697  0.719957  0.254884   \n",
       "TMIN_Q4      0.283175  0.946506  0.235167  0.355160  0.116910  0.786309   \n",
       "PRCP_Annual -0.078574 -0.092298  0.221702 -0.431674 -0.143658 -0.195816   \n",
       "Wine_Score   0.070501  0.175532  0.107505  0.377356  0.257243  0.311460   \n",
       "\n",
       "              TMIN_Q1   TMIN_Q2   TMIN_Q3   TMIN_Q4  PRCP_Annual  Wine_Score  \n",
       "PRCP_Q1      0.441080 -0.068382 -0.059845 -0.148326     0.148360    0.333590  \n",
       "PRCP_Q2      0.019675 -0.188084 -0.205096 -0.099732     0.738781   -0.267205  \n",
       "PRCP_Q3     -0.025465 -0.200370  0.120397  0.067468     0.541557   -0.711203  \n",
       "PRCP_Q4     -0.159802 -0.011311  0.124844  0.189777     0.558656   -0.216151  \n",
       "TAVG_Q1      0.938338  0.395860  0.112687  0.208095     0.204046    0.099019  \n",
       "TAVG_Q2      0.271539  0.935730  0.243662  0.317071    -0.360824    0.367593  \n",
       "TAVG_Q3     -0.026025  0.125820  0.915203  0.283175    -0.078574    0.070501  \n",
       "TAVG_Q4      0.167810  0.221485  0.365162  0.946506    -0.092298    0.175532  \n",
       "TMAX_Q1      0.771636  0.375419  0.092511  0.235167     0.221702    0.107505  \n",
       "TMAX_Q2      0.184509  0.823018  0.248697  0.355160    -0.431674    0.377356  \n",
       "TMAX_Q3     -0.147778  0.036786  0.719957  0.116910    -0.143658    0.257243  \n",
       "TMAX_Q4      0.162595  0.190867  0.254884  0.786309    -0.195816    0.311460  \n",
       "TMIN_Q1      1.000000  0.369622  0.120255  0.154692     0.160994    0.078212  \n",
       "TMIN_Q2      0.369622  1.000000  0.210118  0.227307    -0.218455    0.313820  \n",
       "TMIN_Q3      0.120255  0.210118  1.000000  0.433048     0.009743   -0.158647  \n",
       "TMIN_Q4      0.154692  0.227307  0.433048  1.000000     0.018615    0.024004  \n",
       "PRCP_Annual  0.160994 -0.218455  0.009743  0.018615     1.000000   -0.369876  \n",
       "Wine_Score   0.078212  0.313820 -0.158647  0.024004    -0.369876    1.000000  "
      ]
     },
     "execution_count": 64,
     "metadata": {},
     "output_type": "execute_result"
    }
   ],
   "source": [
    "bds.corr()"
   ]
  },
  {
   "cell_type": "code",
   "execution_count": 65,
   "metadata": {},
   "outputs": [],
   "source": [
    "s = bds.corr().abs().unstack().sort_values(ascending=False)"
   ]
  },
  {
   "cell_type": "code",
   "execution_count": 66,
   "metadata": {},
   "outputs": [
    {
     "data": {
      "text/plain": [
       "324"
      ]
     },
     "execution_count": 66,
     "metadata": {},
     "output_type": "execute_result"
    }
   ],
   "source": [
    "len(s)"
   ]
  },
  {
   "cell_type": "code",
   "execution_count": 67,
   "metadata": {},
   "outputs": [
    {
     "data": {
      "text/plain": [
       "TMAX_Q2      TMIN_Q2        0.823018\n",
       "TMIN_Q2      TMAX_Q2        0.823018\n",
       "TMAX_Q4      TMIN_Q4        0.786309\n",
       "TMIN_Q4      TMAX_Q4        0.786309\n",
       "TMAX_Q1      TMIN_Q1        0.771636\n",
       "TMIN_Q1      TMAX_Q1        0.771636\n",
       "PRCP_Annual  PRCP_Q2        0.738781\n",
       "PRCP_Q2      PRCP_Annual    0.738781\n",
       "TMIN_Q3      TMAX_Q3        0.719957\n",
       "TMAX_Q3      TMIN_Q3        0.719957\n",
       "PRCP_Q3      Wine_Score     0.711203\n",
       "Wine_Score   PRCP_Q3        0.711203\n",
       "dtype: float64"
      ]
     },
     "execution_count": 67,
     "metadata": {},
     "output_type": "execute_result"
    }
   ],
   "source": [
    "s[(s >= 0.6) & (s < 0.9)]"
   ]
  },
  {
   "cell_type": "markdown",
   "metadata": {},
   "source": [
    "> **For Bordeaux,**\n",
    ">\n",
    "> **Wine score is proportional with the precipitaion in the third quarter (July-Sept) (~0.7)**\n",
    "> **right before/in the beginning of the harvest**"
   ]
  },
  {
   "cell_type": "code",
   "execution_count": 68,
   "metadata": {},
   "outputs": [
    {
     "data": {
      "text/html": [
       "<div>\n",
       "<style scoped>\n",
       "    .dataframe tbody tr th:only-of-type {\n",
       "        vertical-align: middle;\n",
       "    }\n",
       "\n",
       "    .dataframe tbody tr th {\n",
       "        vertical-align: top;\n",
       "    }\n",
       "\n",
       "    .dataframe thead th {\n",
       "        text-align: right;\n",
       "    }\n",
       "</style>\n",
       "<table border=\"1\" class=\"dataframe\">\n",
       "  <thead>\n",
       "    <tr style=\"text-align: right;\">\n",
       "      <th></th>\n",
       "      <th>PRCP_Q1</th>\n",
       "      <th>PRCP_Q2</th>\n",
       "      <th>PRCP_Q3</th>\n",
       "      <th>PRCP_Q4</th>\n",
       "      <th>TAVG_Q1</th>\n",
       "      <th>TAVG_Q2</th>\n",
       "      <th>TAVG_Q3</th>\n",
       "      <th>TAVG_Q4</th>\n",
       "      <th>TMAX_Q1</th>\n",
       "      <th>TMAX_Q2</th>\n",
       "      <th>TMAX_Q3</th>\n",
       "      <th>TMAX_Q4</th>\n",
       "      <th>TMIN_Q1</th>\n",
       "      <th>TMIN_Q2</th>\n",
       "      <th>TMIN_Q3</th>\n",
       "      <th>TMIN_Q4</th>\n",
       "      <th>PRCP_Annual</th>\n",
       "      <th>Wine_Score</th>\n",
       "    </tr>\n",
       "    <tr>\n",
       "      <th>YEAR</th>\n",
       "      <th></th>\n",
       "      <th></th>\n",
       "      <th></th>\n",
       "      <th></th>\n",
       "      <th></th>\n",
       "      <th></th>\n",
       "      <th></th>\n",
       "      <th></th>\n",
       "      <th></th>\n",
       "      <th></th>\n",
       "      <th></th>\n",
       "      <th></th>\n",
       "      <th></th>\n",
       "      <th></th>\n",
       "      <th></th>\n",
       "      <th></th>\n",
       "      <th></th>\n",
       "      <th></th>\n",
       "    </tr>\n",
       "  </thead>\n",
       "  <tbody>\n",
       "    <tr>\n",
       "      <th>1985</th>\n",
       "      <td>269.5</td>\n",
       "      <td>257.0</td>\n",
       "      <td>110.6</td>\n",
       "      <td>188.2</td>\n",
       "      <td>5.481471</td>\n",
       "      <td>14.577706</td>\n",
       "      <td>19.781219</td>\n",
       "      <td>9.028638</td>\n",
       "      <td>9.790092</td>\n",
       "      <td>19.554014</td>\n",
       "      <td>26.073477</td>\n",
       "      <td>13.656237</td>\n",
       "      <td>1.172849</td>\n",
       "      <td>9.601398</td>\n",
       "      <td>13.488961</td>\n",
       "      <td>4.401039</td>\n",
       "      <td>825.3</td>\n",
       "      <td>93</td>\n",
       "    </tr>\n",
       "    <tr>\n",
       "      <th>1986</th>\n",
       "      <td>330.3</td>\n",
       "      <td>209.7</td>\n",
       "      <td>176.2</td>\n",
       "      <td>238.2</td>\n",
       "      <td>6.287423</td>\n",
       "      <td>13.968656</td>\n",
       "      <td>19.281882</td>\n",
       "      <td>10.651290</td>\n",
       "      <td>10.048886</td>\n",
       "      <td>18.880287</td>\n",
       "      <td>25.484158</td>\n",
       "      <td>14.933297</td>\n",
       "      <td>2.525960</td>\n",
       "      <td>9.057025</td>\n",
       "      <td>13.079606</td>\n",
       "      <td>6.369283</td>\n",
       "      <td>954.4</td>\n",
       "      <td>95</td>\n",
       "    </tr>\n",
       "    <tr>\n",
       "      <th>1987</th>\n",
       "      <td>158.8</td>\n",
       "      <td>151.4</td>\n",
       "      <td>201.5</td>\n",
       "      <td>276.6</td>\n",
       "      <td>5.319124</td>\n",
       "      <td>14.959570</td>\n",
       "      <td>20.711237</td>\n",
       "      <td>10.587849</td>\n",
       "      <td>9.038018</td>\n",
       "      <td>19.980287</td>\n",
       "      <td>26.313082</td>\n",
       "      <td>14.183692</td>\n",
       "      <td>1.600230</td>\n",
       "      <td>9.938853</td>\n",
       "      <td>15.109391</td>\n",
       "      <td>6.992007</td>\n",
       "      <td>788.3</td>\n",
       "      <td>76</td>\n",
       "    </tr>\n",
       "  </tbody>\n",
       "</table>\n",
       "</div>"
      ],
      "text/plain": [
       "      PRCP_Q1  PRCP_Q2  PRCP_Q3  PRCP_Q4   TAVG_Q1    TAVG_Q2    TAVG_Q3  \\\n",
       "YEAR                                                                       \n",
       "1985    269.5    257.0    110.6    188.2  5.481471  14.577706  19.781219   \n",
       "1986    330.3    209.7    176.2    238.2  6.287423  13.968656  19.281882   \n",
       "1987    158.8    151.4    201.5    276.6  5.319124  14.959570  20.711237   \n",
       "\n",
       "        TAVG_Q4    TMAX_Q1    TMAX_Q2    TMAX_Q3    TMAX_Q4   TMIN_Q1  \\\n",
       "YEAR                                                                    \n",
       "1985   9.028638   9.790092  19.554014  26.073477  13.656237  1.172849   \n",
       "1986  10.651290  10.048886  18.880287  25.484158  14.933297  2.525960   \n",
       "1987  10.587849   9.038018  19.980287  26.313082  14.183692  1.600230   \n",
       "\n",
       "       TMIN_Q2    TMIN_Q3   TMIN_Q4  PRCP_Annual  Wine_Score  \n",
       "YEAR                                                          \n",
       "1985  9.601398  13.488961  4.401039        825.3          93  \n",
       "1986  9.057025  13.079606  6.369283        954.4          95  \n",
       "1987  9.938853  15.109391  6.992007        788.3          76  "
      ]
     },
     "execution_count": 68,
     "metadata": {},
     "output_type": "execute_result"
    }
   ],
   "source": [
    "bds.head(3)"
   ]
  },
  {
   "cell_type": "code",
   "execution_count": 69,
   "metadata": {},
   "outputs": [
    {
     "data": {
      "text/plain": [
       "<seaborn.axisgrid.JointGrid at 0x12ea23be0>"
      ]
     },
     "execution_count": 69,
     "metadata": {},
     "output_type": "execute_result"
    },
    {
     "data": {
      "image/png": "[encoded data removed]",
      "text/plain": [
       "<Figure size 432x432 with 3 Axes>"
      ]
     },
     "metadata": {
      "needs_background": "light"
     },
     "output_type": "display_data"
    }
   ],
   "source": [
    "sns.jointplot(x='PRCP_Q3',y='Wine_Score',data=bds)"
   ]
  },
  {
   "cell_type": "code",
   "execution_count": 70,
   "metadata": {},
   "outputs": [
    {
     "data": {
      "text/plain": [
       "<seaborn.axisgrid.FacetGrid at 0x12efc2208>"
      ]
     },
     "execution_count": 70,
     "metadata": {},
     "output_type": "execute_result"
    },
    {
     "data": {
      "image/png": "[encoded data removed]",
      "text/plain": [
       "<Figure size 360x360 with 1 Axes>"
      ]
     },
     "metadata": {
      "needs_background": "light"
     },
     "output_type": "display_data"
    }
   ],
   "source": [
    "sns.lmplot(x='PRCP_Q3',y='Wine_Score',data=bds)"
   ]
  },
  {
   "cell_type": "code",
   "execution_count": 51,
   "metadata": {},
   "outputs": [],
   "source": [
    "#store = pd.HDFStore('store.h5')"
   ]
  },
  {
   "cell_type": "code",
   "execution_count": 71,
   "metadata": {},
   "outputs": [],
   "source": [
    "#store['bd_p'] = bd_p"
   ]
  },
  {
   "cell_type": "code",
   "execution_count": 53,
   "metadata": {},
   "outputs": [],
   "source": [
    "#store['bds'] = bds"
   ]
  },
  {
   "cell_type": "code",
   "execution_count": 54,
   "metadata": {},
   "outputs": [],
   "source": [
    "#store['bd_temp'] = bd_temp"
   ]
  },
  {
   "cell_type": "code",
   "execution_count": 72,
   "metadata": {},
   "outputs": [
    {
     "data": {
      "text/plain": [
       "Index(['PRCP_Q1', 'PRCP_Q2', 'PRCP_Q3', 'PRCP_Q4', 'TAVG_Q1', 'TAVG_Q2',\n",
       "       'TAVG_Q3', 'TAVG_Q4', 'TMAX_Q1', 'TMAX_Q2', 'TMAX_Q3', 'TMAX_Q4',\n",
       "       'TMIN_Q1', 'TMIN_Q2', 'TMIN_Q3', 'TMIN_Q4', 'PRCP_Annual',\n",
       "       'Wine_Score'],\n",
       "      dtype='object')"
      ]
     },
     "execution_count": 72,
     "metadata": {},
     "output_type": "execute_result"
    }
   ],
   "source": [
    "bds.columns"
   ]
  },
  {
   "cell_type": "markdown",
   "metadata": {},
   "source": [
    "### Training and Testing Data\n",
    "#### An attempt with simple regression analysis for potential correlations between wine scores and climate"
   ]
  },
  {
   "cell_type": "code",
   "execution_count": 73,
   "metadata": {},
   "outputs": [],
   "source": [
    "y = bds['Wine_Score']\n",
    "\n",
    "X = bds[['PRCP_Q1', 'PRCP_Q2', 'PRCP_Q3', 'TMAX_Q2']]"
   ]
  },
  {
   "cell_type": "code",
   "execution_count": 74,
   "metadata": {},
   "outputs": [],
   "source": [
    "from sklearn.model_selection import train_test_split"
   ]
  },
  {
   "cell_type": "code",
   "execution_count": 75,
   "metadata": {},
   "outputs": [],
   "source": [
    "X_train, X_test, y_train, y_test = train_test_split(X, y, test_size=0.3, random_state=101)"
   ]
  },
  {
   "cell_type": "markdown",
   "metadata": {},
   "source": [
    "### Training the Model"
   ]
  },
  {
   "cell_type": "code",
   "execution_count": 76,
   "metadata": {},
   "outputs": [],
   "source": [
    "from sklearn.linear_model import LinearRegression"
   ]
  },
  {
   "cell_type": "code",
   "execution_count": 77,
   "metadata": {},
   "outputs": [],
   "source": [
    "lm = LinearRegression()"
   ]
  },
  {
   "cell_type": "code",
   "execution_count": 78,
   "metadata": {},
   "outputs": [
    {
     "data": {
      "text/plain": [
       "LinearRegression(copy_X=True, fit_intercept=True, n_jobs=None, normalize=False)"
      ]
     },
     "execution_count": 78,
     "metadata": {},
     "output_type": "execute_result"
    }
   ],
   "source": [
    "lm.fit(X_train, y_train)"
   ]
  },
  {
   "cell_type": "code",
   "execution_count": 79,
   "metadata": {},
   "outputs": [
    {
     "name": "stdout",
     "output_type": "stream",
     "text": [
      "Coefficients: \n",
      " [ 0.01801288 -0.01490933 -0.0390493   1.66891513]\n"
     ]
    }
   ],
   "source": [
    "print('Coefficients: \\n', lm.coef_)"
   ]
  },
  {
   "cell_type": "markdown",
   "metadata": {},
   "source": [
    "### Predicting Test Data"
   ]
  },
  {
   "cell_type": "code",
   "execution_count": 80,
   "metadata": {},
   "outputs": [],
   "source": [
    "predictions = lm.predict(X_test)"
   ]
  },
  {
   "cell_type": "code",
   "execution_count": 81,
   "metadata": {},
   "outputs": [
    {
     "data": {
      "text/plain": [
       "Text(0, 0.5, 'Predicted Y')"
      ]
     },
     "execution_count": 81,
     "metadata": {},
     "output_type": "execute_result"
    },
    {
     "data": {
      "image/png": "[encoded data removed]",
      "text/plain": [
       "<Figure size 432x288 with 1 Axes>"
      ]
     },
     "metadata": {
      "needs_background": "light"
     },
     "output_type": "display_data"
    }
   ],
   "source": [
    "plt.scatter(y_test, predictions)\n",
    "plt.xlabel('Y Test')\n",
    "plt.ylabel('Predicted Y')"
   ]
  },
  {
   "cell_type": "markdown",
   "metadata": {},
   "source": [
    "### Evaluating the Model"
   ]
  },
  {
   "cell_type": "code",
   "execution_count": 82,
   "metadata": {},
   "outputs": [
    {
     "name": "stdout",
     "output_type": "stream",
     "text": [
      "MAE: 4.530052936080492\n",
      "MSE: 27.6394719182269\n",
      "RMSE: 5.257325548054533\n"
     ]
    }
   ],
   "source": [
    "from sklearn import metrics\n",
    "\n",
    "print('MAE:', metrics.mean_absolute_error(y_test, predictions))\n",
    "print('MSE:', metrics.mean_squared_error(y_test, predictions))\n",
    "print('RMSE:', np.sqrt(metrics.mean_squared_error(y_test, predictions)))"
   ]
  },
  {
   "cell_type": "markdown",
   "metadata": {},
   "source": [
    "### Visualizing Residuals"
   ]
  },
  {
   "cell_type": "code",
   "execution_count": 83,
   "metadata": {},
   "outputs": [
    {
     "data": {
      "text/plain": [
       "<matplotlib.axes._subplots.AxesSubplot at 0x1302f2fd0>"
      ]
     },
     "execution_count": 83,
     "metadata": {},
     "output_type": "execute_result"
    },
    {
     "data": {
      "image/png": "[encoded data removed]",
      "text/plain": [
       "<Figure size 432x288 with 1 Axes>"
      ]
     },
     "metadata": {},
     "output_type": "display_data"
    }
   ],
   "source": [
    "sns.set_style('whitegrid')\n",
    "sns.distplot(y_test-predictions, bins=20)"
   ]
  },
  {
   "cell_type": "code",
   "execution_count": 84,
   "metadata": {},
   "outputs": [
    {
     "data": {
      "text/html": [
       "<div>\n",
       "<style scoped>\n",
       "    .dataframe tbody tr th:only-of-type {\n",
       "        vertical-align: middle;\n",
       "    }\n",
       "\n",
       "    .dataframe tbody tr th {\n",
       "        vertical-align: top;\n",
       "    }\n",
       "\n",
       "    .dataframe thead th {\n",
       "        text-align: right;\n",
       "    }\n",
       "</style>\n",
       "<table border=\"1\" class=\"dataframe\">\n",
       "  <thead>\n",
       "    <tr style=\"text-align: right;\">\n",
       "      <th></th>\n",
       "      <th>Coefficient</th>\n",
       "    </tr>\n",
       "  </thead>\n",
       "  <tbody>\n",
       "    <tr>\n",
       "      <th>PRCP_Q1</th>\n",
       "      <td>0.018013</td>\n",
       "    </tr>\n",
       "    <tr>\n",
       "      <th>PRCP_Q2</th>\n",
       "      <td>-0.014909</td>\n",
       "    </tr>\n",
       "    <tr>\n",
       "      <th>PRCP_Q3</th>\n",
       "      <td>-0.039049</td>\n",
       "    </tr>\n",
       "    <tr>\n",
       "      <th>TMAX_Q2</th>\n",
       "      <td>1.668915</td>\n",
       "    </tr>\n",
       "  </tbody>\n",
       "</table>\n",
       "</div>"
      ],
      "text/plain": [
       "         Coefficient\n",
       "PRCP_Q1     0.018013\n",
       "PRCP_Q2    -0.014909\n",
       "PRCP_Q3    -0.039049\n",
       "TMAX_Q2     1.668915"
      ]
     },
     "execution_count": 84,
     "metadata": {},
     "output_type": "execute_result"
    }
   ],
   "source": [
    "coeffs = pd.DataFrame(lm.coef_,X.columns)\n",
    "coeffs.columns=['Coefficient']\n",
    "coeffs"
   ]
  },
  {
   "cell_type": "markdown",
   "metadata": {},
   "source": [
    "### Conclusions\n",
    "\n",
    "- **Wine scores may not be closely/directly correlated with temperature and precipitation.**\n",
    "\n",
    "- **Linear regression may not be effective enough to predict wine score from weather condtions.**\n",
    "\n",
    "- **Other weather parameters may play more important roles (e.g., degree days) that can be further explored.**"
   ]
  },
  {
   "cell_type": "markdown",
   "metadata": {},
   "source": [
    "### Next step\n",
    "\n",
    "**Create a web-based interactive application where visitors can request to plot weather conditions in various wine regions and vintages.**"
   ]
  }
 ],
 "metadata": {
  "kernelspec": {
   "display_name": "Python 3",
   "language": "python",
   "name": "python3"
  },
  "language_info": {
   "codemirror_mode": {
    "name": "ipython",
    "version": 3
   },
   "file_extension": ".py",
   "mimetype": "text/x-python",
   "name": "python",
   "nbconvert_exporter": "python",
   "pygments_lexer": "ipython3",
   "version": "3.7.3"
  }
 },
 "nbformat": 4,
 "nbformat_minor": 2
}
